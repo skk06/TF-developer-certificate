{
 "cells": [
  {
   "cell_type": "code",
   "execution_count": 1,
   "id": "bc6a7493",
   "metadata": {},
   "outputs": [],
   "source": [
    "from tensorflow.keras.preprocessing.image import ImageDataGenerator\n",
    "from matplotlib.pyplot import imread, imshow, subplots, show\n",
    "import numpy as np\n",
    "import os\n",
    "from PIL import Image\n",
    "from skimage import io"
   ]
  },
  {
   "cell_type": "code",
   "execution_count": 3,
   "id": "e581ae37",
   "metadata": {},
   "outputs": [],
   "source": [
    "datagen = ImageDataGenerator(        \n",
    "            rotation_range=45,\n",
    "            width_shift_range=0.3,  \n",
    "            height_shift_range=0.3,    \n",
    "            shear_range=0.25,        \n",
    "            zoom_range=0.25,        \n",
    "            horizontal_flip=True,         \n",
    "            fill_mode='reflect')"
   ]
  },
  {
   "cell_type": "code",
   "execution_count": 9,
   "id": "7d052e47",
   "metadata": {},
   "outputs": [
    {
     "name": "stdout",
     "output_type": "stream",
     "text": [
      "Found 10 images belonging to 1 classes.\n"
     ]
    }
   ],
   "source": [
    "i = 0\n",
    "for batch in datagen.flow_from_directory(directory=r'C:\\Users\\owner\\OneDrive\\Desktop\\Internship\\Augmented data image classification\\Healthcare-images-classification\\X-Ray',\n",
    "                                          batch_size=16,\n",
    "                                          target_size=(256, 256),   \n",
    "                                          color_mode=\"rgb\",     \n",
    "                                          save_to_dir=r'C:\\Users\\owner\\OneDrive\\Desktop\\Internship\\Augmented data image classification\\multi_augmented\\X-Ray',   \n",
    "                                          save_prefix='aug',    \n",
    "                                          save_format='png'):    \n",
    "   i += 1    \n",
    "   if i > 29:        \n",
    "     break"
   ]
  },
  {
   "cell_type": "code",
   "execution_count": null,
   "id": "a4fc4281",
   "metadata": {},
   "outputs": [],
   "source": []
  }
 ],
 "metadata": {
  "kernelspec": {
   "display_name": "Python 3 (ipykernel)",
   "language": "python",
   "name": "python3"
  },
  "language_info": {
   "codemirror_mode": {
    "name": "ipython",
    "version": 3
   },
   "file_extension": ".py",
   "mimetype": "text/x-python",
   "name": "python",
   "nbconvert_exporter": "python",
   "pygments_lexer": "ipython3",
   "version": "3.9.12"
  }
 },
 "nbformat": 4,
 "nbformat_minor": 5
}
