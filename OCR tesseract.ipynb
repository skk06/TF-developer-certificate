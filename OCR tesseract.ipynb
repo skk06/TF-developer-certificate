{
 "cells": [
  {
   "cell_type": "code",
   "execution_count": 1,
   "id": "d00d0986",
   "metadata": {},
   "outputs": [],
   "source": [
    "#pip install pytesseract"
   ]
  },
  {
   "cell_type": "code",
   "execution_count": 1,
   "id": "50c4c4d4",
   "metadata": {},
   "outputs": [],
   "source": [
    "import pytesseract"
   ]
  },
  {
   "cell_type": "code",
   "execution_count": 2,
   "id": "3c02faea",
   "metadata": {},
   "outputs": [],
   "source": [
    "import cv2"
   ]
  },
  {
   "cell_type": "code",
   "execution_count": 3,
   "id": "1b9968de",
   "metadata": {},
   "outputs": [],
   "source": [
    "pytesseract.pytesseract.tesseract_cmd=r'C:\\Program Files\\Tesseract-OCR\\tesseract.exe'"
   ]
  },
  {
   "cell_type": "code",
   "execution_count": 4,
   "id": "ca7e5625",
   "metadata": {},
   "outputs": [],
   "source": [
    "img=cv2.imread(r'C:\\Users\\owner\\OneDrive\\Documents\\Machine vision\\Capture.png')"
   ]
  },
  {
   "cell_type": "code",
   "execution_count": 5,
   "id": "b5a8240b",
   "metadata": {},
   "outputs": [
    {
     "data": {
      "application/javascript": [
       "\n",
       "        if (window._pyforest_update_imports_cell) { window._pyforest_update_imports_cell('import matplotlib.pyplot as plt'); }\n",
       "    "
      ],
      "text/plain": [
       "<IPython.core.display.Javascript object>"
      ]
     },
     "metadata": {},
     "output_type": "display_data"
    },
    {
     "data": {
      "text/plain": [
       "<matplotlib.image.AxesImage at 0x1631cac33a0>"
      ]
     },
     "execution_count": 5,
     "metadata": {},
     "output_type": "execute_result"
    },
    {
     "data": {
      "image/png": "[encoded data removed]",
      "text/plain": [
       "<Figure size 432x288 with 1 Axes>"
      ]
     },
     "metadata": {
      "needs_background": "light"
     },
     "output_type": "display_data"
    }
   ],
   "source": [
    "plt.imshow(img)"
   ]
  },
  {
   "cell_type": "code",
   "execution_count": 6,
   "id": "969ff580",
   "metadata": {},
   "outputs": [],
   "source": [
    "img2char=pytesseract.image_to_string(img)"
   ]
  },
  {
   "cell_type": "code",
   "execution_count": 7,
   "id": "5ab37316",
   "metadata": {},
   "outputs": [
    {
     "name": "stdout",
     "output_type": "stream",
     "text": [
      "Deep Learning by\n",
      "Shubham Agarwal\n",
      "\n"
     ]
    }
   ],
   "source": [
    "print(img2char)"
   ]
  },
  {
   "cell_type": "code",
   "execution_count": 8,
   "id": "5740ffe5",
   "metadata": {},
   "outputs": [],
   "source": [
    "imgbox=pytesseract.image_to_boxes(img)"
   ]
  },
  {
   "cell_type": "code",
   "execution_count": 9,
   "id": "b42839ae",
   "metadata": {},
   "outputs": [
    {
     "data": {
      "text/plain": [
       "str"
      ]
     },
     "execution_count": 9,
     "metadata": {},
     "output_type": "execute_result"
    }
   ],
   "source": [
    "type(imgbox)"
   ]
  },
  {
   "cell_type": "code",
   "execution_count": 10,
   "id": "01ba2200",
   "metadata": {},
   "outputs": [
    {
     "name": "stdout",
     "output_type": "stream",
     "text": [
      "D 25 112 43 137 0\n",
      "e 48 112 64 131 0\n",
      "e 68 112 84 131 0\n",
      "p 89 105 105 131 0\n",
      "L 120 112 132 137 0\n",
      "e 135 112 151 131 0\n",
      "a 155 112 169 131 0\n",
      "r 175 112 185 131 0\n",
      "n 189 112 204 131 0\n",
      "i 210 112 213 138 0\n",
      "n 219 112 234 131 0\n",
      "g 238 105 254 131 0\n",
      "b 267 112 283 139 0\n",
      "y 286 105 302 130 0\n",
      "S 17 24 42 73 0\n",
      "h 41 24 62 73 0\n",
      "u 61 24 83 73 0\n",
      "b 21 35 160 69 0\n",
      "h 102 24 124 73 0\n",
      "a 123 24 144 73 0\n",
      "m 143 24 160 73 0\n",
      "A 185 42 206 67 0\n",
      "g 208 35 224 61 0\n",
      "a 228 42 242 61 0\n",
      "r 237 24 254 73 0\n",
      "w 248 42 286 61 0\n",
      "a 274 24 291 73 0\n",
      "l 290 42 313 69 0\n",
      "\n"
     ]
    }
   ],
   "source": [
    "print(imgbox)"
   ]
  },
  {
   "cell_type": "code",
   "execution_count": 11,
   "id": "d3a4ec54",
   "metadata": {},
   "outputs": [],
   "source": [
    "imgH, imgW,_=img.shape"
   ]
  },
  {
   "cell_type": "code",
   "execution_count": 12,
   "id": "af619cfd",
   "metadata": {},
   "outputs": [
    {
     "data": {
      "text/plain": [
       "(172, 348, 3)"
      ]
     },
     "execution_count": 12,
     "metadata": {},
     "output_type": "execute_result"
    }
   ],
   "source": [
    "img.shape"
   ]
  },
  {
   "cell_type": "code",
   "execution_count": 13,
   "id": "50db6d40",
   "metadata": {},
   "outputs": [],
   "source": [
    "for boxes in imgbox.splitlines():\n",
    "    boxes=boxes.split(' ')\n",
    "    x,y,w,h = int(boxes[1]),int(boxes[2]),int(boxes[3]),int(boxes[4])\n",
    "    cv2.rectangle(img, (x, imgH-y), (w, imgH-h), (0,255,0),3)"
   ]
  },
  {
   "cell_type": "code",
   "execution_count": 14,
   "id": "e485621a",
   "metadata": {},
   "outputs": [
    {
     "data": {
      "application/javascript": [
       "\n",
       "        if (window._pyforest_update_imports_cell) { window._pyforest_update_imports_cell('import matplotlib.pyplot as plt'); }\n",
       "    "
      ],
      "text/plain": [
       "<IPython.core.display.Javascript object>"
      ]
     },
     "metadata": {},
     "output_type": "display_data"
    },
    {
     "data": {
      "text/plain": [
       "<matplotlib.image.AxesImage at 0x1631db94880>"
      ]
     },
     "execution_count": 14,
     "metadata": {},
     "output_type": "execute_result"
    },
    {
     "data": {
      "image/png": "[encoded data removed]",
      "text/plain": [
       "<Figure size 432x288 with 1 Axes>"
      ]
     },
     "metadata": {
      "needs_background": "light"
     },
     "output_type": "display_data"
    }
   ],
   "source": [
    "plt.imshow(img) ## by default cv2 ==> blue color"
   ]
  },
  {
   "cell_type": "code",
   "execution_count": 16,
   "id": "7db76d1c",
   "metadata": {},
   "outputs": [],
   "source": [
    "#plt.imshow(cv2.cvtColor(img, cv2.COLOR_BGR2RGB))"
   ]
  },
  {
   "cell_type": "code",
   "execution_count": null,
   "id": "134805f9",
   "metadata": {},
   "outputs": [],
   "source": [
    "font_scale=1.5\n",
    "fotn= cv2.FONT_HERSHEY_PLAIN\n",
    "\n",
    "cap=cv2.VideoCapture(r'C:\\Users\\owner\\AppData\\LocalLow\\iTop Screen Recorder\\Outputs\\20221123_114718.mp4')\n",
    "# cap=cv2.VideoCapture(1)    for opening web cam\n",
    "\n",
    "if not cap.isOpened():\n",
    "    cap=cv2.VideoCapture(0)\n",
    "if not cap.isOpened():\n",
    "    raise IOError(\"Cannot open video\")\n",
    "cntr=0;\n",
    "while True:\n",
    "    ret, frame=cap.read()\n",
    "    cntr=cntr+1;\n",
    "    if((cntr%20)==0):\n",
    "        \n",
    "        imgH, imgW,_=frame.shape\n",
    "        x1,y1,w1,h1=0,0,imgH,imgW\n",
    "        imgchar=pytesseract.image_to_string(frame)\n",
    "        imgboxes=pytesseract.image_to_boxes(frame)\n",
    "        for boxes in imgboxes.splitlines():\n",
    "            boxes=boxes.split(' ')\n",
    "            x,y,w,h = int(boxes[1]),int(boxes[2]),int(boxes[3]),int(boxes[4])\n",
    "            cv2.rectangle(frame, (x, imgH-y), (w, imgH-h),(0,0,255),3)\n",
    "        \n",
    "        #add text\n",
    "        cv2.putText(frame, imgchar, (x1+int(w1/50), y1+int(h1/50)), cv2.FONT_HERSHEY_SIMPLEX, 0.7, (255,0,0),2)\n",
    "        \n",
    "        font=cv2.FONT_HERSHEY_SIMPLEX\n",
    "        \n",
    "        cv2.imshow('Text Detection Tutorial', frame)\n",
    "        \n",
    "        if cv2.waitKey(2) & 0xFF == ord('q'):\n",
    "            break\n",
    "\n",
    "cap.release()\n",
    "cv2.destroyAllWindows()"
   ]
  },
  {
   "cell_type": "code",
   "execution_count": null,
   "id": "dc113e2a",
   "metadata": {},
   "outputs": [],
   "source": []
  }
 ],
 "metadata": {
  "kernelspec": {
   "display_name": "Python 3 (ipykernel)",
   "language": "python",
   "name": "python3"
  },
  "language_info": {
   "codemirror_mode": {
    "name": "ipython",
    "version": 3
   },
   "file_extension": ".py",
   "mimetype": "text/x-python",
   "name": "python",
   "nbconvert_exporter": "python",
   "pygments_lexer": "ipython3",
   "version": "3.9.12"
  }
 },
 "nbformat": 4,
 "nbformat_minor": 5
}
