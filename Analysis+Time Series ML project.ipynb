{
 "cells": [
  {
   "cell_type": "markdown",
   "id": "36bf0b1e",
   "metadata": {},
   "source": [
    "# <p style=\"text-align: center;\">_Part 0: Reading the data_</p>"
   ]
  },
  {
   "cell_type": "markdown",
   "id": "d98e2195",
   "metadata": {},
   "source": [
    "ds is the abbreviation of dataset"
   ]
  },
  {
   "cell_type": "code",
   "execution_count": 1,
   "id": "d825f59a",
   "metadata": {},
   "outputs": [
    {
     "data": {
      "application/javascript": [
       "\n",
       "        if (window._pyforest_update_imports_cell) { window._pyforest_update_imports_cell('import pandas as pd'); }\n",
       "    "
      ],
      "text/plain": [
       "<IPython.core.display.Javascript object>"
      ]
     },
     "metadata": {},
     "output_type": "display_data"
    }
   ],
   "source": [
    "ds=pd.read_excel(r'C:\\Users\\owner\\Downloads\\Fytlyff_DS_Interview.xlsx')"
   ]
  },
  {
   "cell_type": "code",
   "execution_count": 2,
   "id": "65445966",
   "metadata": {},
   "outputs": [
    {
     "data": {
      "text/html": [
       "<div>\n",
       "<style scoped>\n",
       "    .dataframe tbody tr th:only-of-type {\n",
       "        vertical-align: middle;\n",
       "    }\n",
       "\n",
       "    .dataframe tbody tr th {\n",
       "        vertical-align: top;\n",
       "    }\n",
       "\n",
       "    .dataframe thead th {\n",
       "        text-align: right;\n",
       "    }\n",
       "</style>\n",
       "<table border=\"1\" class=\"dataframe\">\n",
       "  <thead>\n",
       "    <tr style=\"text-align: right;\">\n",
       "      <th></th>\n",
       "      <th>Year</th>\n",
       "      <th>Month</th>\n",
       "      <th>Laptop/Desktop</th>\n",
       "      <th>Type_of_Customers?</th>\n",
       "      <th>Coming from</th>\n",
       "      <th>Place_in_India</th>\n",
       "      <th>Level 1</th>\n",
       "      <th>Level 2</th>\n",
       "      <th>Level 3</th>\n",
       "      <th>Level 4</th>\n",
       "    </tr>\n",
       "  </thead>\n",
       "  <tbody>\n",
       "    <tr>\n",
       "      <th>0</th>\n",
       "      <td>2020</td>\n",
       "      <td>Jan</td>\n",
       "      <td>Desktop_Website</td>\n",
       "      <td>Existing_Customer</td>\n",
       "      <td>Came_From_LinkedIn</td>\n",
       "      <td>Bengaluru</td>\n",
       "      <td>NaN</td>\n",
       "      <td>NaN</td>\n",
       "      <td>56892</td>\n",
       "      <td>17178</td>\n",
       "    </tr>\n",
       "    <tr>\n",
       "      <th>1</th>\n",
       "      <td>2020</td>\n",
       "      <td>Jan</td>\n",
       "      <td>Desktop_Website</td>\n",
       "      <td>Existing_Customer</td>\n",
       "      <td>Came_From_LinkedIn</td>\n",
       "      <td>Hyderabad</td>\n",
       "      <td>NaN</td>\n",
       "      <td>NaN</td>\n",
       "      <td>41460</td>\n",
       "      <td>11916</td>\n",
       "    </tr>\n",
       "    <tr>\n",
       "      <th>2</th>\n",
       "      <td>2020</td>\n",
       "      <td>Jan</td>\n",
       "      <td>Desktop_Website</td>\n",
       "      <td>Existing_Customer</td>\n",
       "      <td>Came_From_LinkedIn</td>\n",
       "      <td>Dehradun</td>\n",
       "      <td>NaN</td>\n",
       "      <td>NaN</td>\n",
       "      <td>55561</td>\n",
       "      <td>19461</td>\n",
       "    </tr>\n",
       "    <tr>\n",
       "      <th>3</th>\n",
       "      <td>2020</td>\n",
       "      <td>Jan</td>\n",
       "      <td>Desktop_Website</td>\n",
       "      <td>Existing_Customer</td>\n",
       "      <td>Came_From_LinkedIn</td>\n",
       "      <td>Indore</td>\n",
       "      <td>NaN</td>\n",
       "      <td>NaN</td>\n",
       "      <td>320923</td>\n",
       "      <td>110667</td>\n",
       "    </tr>\n",
       "    <tr>\n",
       "      <th>4</th>\n",
       "      <td>2020</td>\n",
       "      <td>Jan</td>\n",
       "      <td>Desktop_Website</td>\n",
       "      <td>Existing_Customer</td>\n",
       "      <td>Came_From_LinkedIn</td>\n",
       "      <td>Pune</td>\n",
       "      <td>NaN</td>\n",
       "      <td>NaN</td>\n",
       "      <td>220937</td>\n",
       "      <td>46033</td>\n",
       "    </tr>\n",
       "  </tbody>\n",
       "</table>\n",
       "</div>"
      ],
      "text/plain": [
       "   Year Month   Laptop/Desktop Type_of_Customers?         Coming from  \\\n",
       "0  2020   Jan  Desktop_Website  Existing_Customer  Came_From_LinkedIn   \n",
       "1  2020   Jan  Desktop_Website  Existing_Customer  Came_From_LinkedIn   \n",
       "2  2020   Jan  Desktop_Website  Existing_Customer  Came_From_LinkedIn   \n",
       "3  2020   Jan  Desktop_Website  Existing_Customer  Came_From_LinkedIn   \n",
       "4  2020   Jan  Desktop_Website  Existing_Customer  Came_From_LinkedIn   \n",
       "\n",
       "  Place_in_India  Level 1  Level 2  Level 3  Level 4  \n",
       "0      Bengaluru      NaN      NaN    56892    17178  \n",
       "1      Hyderabad      NaN      NaN    41460    11916  \n",
       "2       Dehradun      NaN      NaN    55561    19461  \n",
       "3         Indore      NaN      NaN   320923   110667  \n",
       "4           Pune      NaN      NaN   220937    46033  "
      ]
     },
     "execution_count": 2,
     "metadata": {},
     "output_type": "execute_result"
    }
   ],
   "source": [
    "ds.head()"
   ]
  },
  {
   "cell_type": "code",
   "execution_count": 3,
   "id": "4d5b9acf",
   "metadata": {},
   "outputs": [
    {
     "name": "stdout",
     "output_type": "stream",
     "text": [
      "<class 'pandas.core.frame.DataFrame'>\n",
      "RangeIndex: 2160 entries, 0 to 2159\n",
      "Data columns (total 10 columns):\n",
      " #   Column              Non-Null Count  Dtype  \n",
      "---  ------              --------------  -----  \n",
      " 0   Year                2160 non-null   int64  \n",
      " 1   Month               2160 non-null   object \n",
      " 2   Laptop/Desktop      2160 non-null   object \n",
      " 3   Type_of_Customers?  2160 non-null   object \n",
      " 4   Coming from         2160 non-null   object \n",
      " 5   Place_in_India      2160 non-null   object \n",
      " 6   Level 1             1081 non-null   float64\n",
      " 7   Level 2             1081 non-null   float64\n",
      " 8   Level 3             2160 non-null   int64  \n",
      " 9   Level 4             2160 non-null   int64  \n",
      "dtypes: float64(2), int64(3), object(5)\n",
      "memory usage: 168.9+ KB\n"
     ]
    }
   ],
   "source": [
    "# Print all the column names and the data types in each column. \n",
    "ds.info()"
   ]
  },
  {
   "cell_type": "code",
   "execution_count": 4,
   "id": "56cf0e58",
   "metadata": {},
   "outputs": [
    {
     "data": {
      "application/javascript": [
       "\n",
       "        if (window._pyforest_update_imports_cell) { window._pyforest_update_imports_cell('import numpy as np\\nimport pandas as pd'); }\n",
       "    "
      ],
      "text/plain": [
       "<IPython.core.display.Javascript object>"
      ]
     },
     "metadata": {},
     "output_type": "display_data"
    },
    {
     "data": {
      "text/plain": [
       "(array(['Bengaluru', 'Dehradun', 'Hyderabad', 'Indore', 'Pune'],\n",
       "       dtype=object),\n",
       " array([432, 432, 432, 432, 432], dtype=int64))"
      ]
     },
     "execution_count": 4,
     "metadata": {},
     "output_type": "execute_result"
    }
   ],
   "source": [
    "# Print the cities of India from which the page was accessed\n",
    "np.unique(ds['Place_in_India'], return_counts=True)"
   ]
  },
  {
   "cell_type": "code",
   "execution_count": 5,
   "id": "60ade946",
   "metadata": {},
   "outputs": [
    {
     "data": {
      "text/plain": [
       "Year                     0\n",
       "Month                    0\n",
       "Laptop/Desktop           0\n",
       "Type_of_Customers?       0\n",
       "Coming from              0\n",
       "Place_in_India           0\n",
       "Level 1               1079\n",
       "Level 2               1079\n",
       "Level 3                  0\n",
       "Level 4                  0\n",
       "dtype: int64"
      ]
     },
     "execution_count": 5,
     "metadata": {},
     "output_type": "execute_result"
    }
   ],
   "source": [
    "# Which columns are having some values missing in them?\n",
    "ds.isnull().sum()"
   ]
  },
  {
   "cell_type": "code",
   "execution_count": 6,
   "id": "3aadcfc3",
   "metadata": {},
   "outputs": [
    {
     "data": {
      "text/plain": [
       "['Level 1', 'Level 2']"
      ]
     },
     "execution_count": 6,
     "metadata": {},
     "output_type": "execute_result"
    }
   ],
   "source": [
    "# Exract names of columns with nan values\n",
    "ds.columns[ds.isnull().any()].tolist()"
   ]
  },
  {
   "cell_type": "markdown",
   "id": "9214a1a1",
   "metadata": {},
   "source": [
    "### ```Write a brief paragraph about what you think about this dataset along the lines of :```\n",
    " * **What type of company this dataset belongs to?**    \n",
    " This dataset belongs to some webiste analysis of 5 different cities, where it has been analysed that how many customers,\n",
    " whether existing or new, have visited the website from various/different sources and initiated/completed the activity present in website and then as per\n",
    " their actions Levels have been decided.\n",
    "\n",
    " * **Suppose that this dataset is for a website like Flipkart, what could be the possible definitions of the columns Level 1, 2, 3, 4 in the given dataset? Do you observe any pattern?**  \n",
    " Level 1: Customers who visited the website  \n",
    " Level 2: Customers clicked on the items  \n",
    " Level 3: Customers added items to their wishlist  \n",
    " Level 4: Customers who bought the items and made the payment\n",
    " "
   ]
  },
  {
   "cell_type": "code",
   "execution_count": 7,
   "id": "e96e35dc",
   "metadata": {},
   "outputs": [
    {
     "data": {
      "text/html": [
       "<div>\n",
       "<style scoped>\n",
       "    .dataframe tbody tr th:only-of-type {\n",
       "        vertical-align: middle;\n",
       "    }\n",
       "\n",
       "    .dataframe tbody tr th {\n",
       "        vertical-align: top;\n",
       "    }\n",
       "\n",
       "    .dataframe thead th {\n",
       "        text-align: right;\n",
       "    }\n",
       "</style>\n",
       "<table border=\"1\" class=\"dataframe\">\n",
       "  <thead>\n",
       "    <tr style=\"text-align: right;\">\n",
       "      <th></th>\n",
       "      <th>Year</th>\n",
       "      <th>Month</th>\n",
       "      <th>Laptop/Desktop</th>\n",
       "      <th>Type_of_Customers?</th>\n",
       "      <th>Coming from</th>\n",
       "      <th>Place_in_India</th>\n",
       "      <th>Level 1</th>\n",
       "      <th>Level 2</th>\n",
       "      <th>Level 3</th>\n",
       "      <th>Level 4</th>\n",
       "    </tr>\n",
       "  </thead>\n",
       "  <tbody>\n",
       "    <tr>\n",
       "      <th>4</th>\n",
       "      <td>2020</td>\n",
       "      <td>Jan</td>\n",
       "      <td>Desktop_Website</td>\n",
       "      <td>Existing_Customer</td>\n",
       "      <td>Came_From_LinkedIn</td>\n",
       "      <td>Pune</td>\n",
       "      <td>NaN</td>\n",
       "      <td>NaN</td>\n",
       "      <td>220937</td>\n",
       "      <td>46033</td>\n",
       "    </tr>\n",
       "    <tr>\n",
       "      <th>19</th>\n",
       "      <td>2020</td>\n",
       "      <td>Jan</td>\n",
       "      <td>Desktop_Website</td>\n",
       "      <td>New_Customer</td>\n",
       "      <td>Came_From_LinkedIn</td>\n",
       "      <td>Pune</td>\n",
       "      <td>383260.0</td>\n",
       "      <td>305902.0</td>\n",
       "      <td>172827</td>\n",
       "      <td>122285</td>\n",
       "    </tr>\n",
       "    <tr>\n",
       "      <th>34</th>\n",
       "      <td>2020</td>\n",
       "      <td>Jan</td>\n",
       "      <td>Laptop_Website</td>\n",
       "      <td>Existing_Customer</td>\n",
       "      <td>Came_From_LinkedIn</td>\n",
       "      <td>Pune</td>\n",
       "      <td>NaN</td>\n",
       "      <td>NaN</td>\n",
       "      <td>193520</td>\n",
       "      <td>40931</td>\n",
       "    </tr>\n",
       "    <tr>\n",
       "      <th>49</th>\n",
       "      <td>2020</td>\n",
       "      <td>Jan</td>\n",
       "      <td>Laptop_Website</td>\n",
       "      <td>New_Customer</td>\n",
       "      <td>Came_From_LinkedIn</td>\n",
       "      <td>Pune</td>\n",
       "      <td>480675.0</td>\n",
       "      <td>347596.0</td>\n",
       "      <td>186713</td>\n",
       "      <td>135275</td>\n",
       "    </tr>\n",
       "    <tr>\n",
       "      <th>64</th>\n",
       "      <td>2020</td>\n",
       "      <td>Feb</td>\n",
       "      <td>Desktop_Website</td>\n",
       "      <td>Existing_Customer</td>\n",
       "      <td>Came_From_LinkedIn</td>\n",
       "      <td>Pune</td>\n",
       "      <td>NaN</td>\n",
       "      <td>NaN</td>\n",
       "      <td>228051</td>\n",
       "      <td>36538</td>\n",
       "    </tr>\n",
       "    <tr>\n",
       "      <th>...</th>\n",
       "      <td>...</td>\n",
       "      <td>...</td>\n",
       "      <td>...</td>\n",
       "      <td>...</td>\n",
       "      <td>...</td>\n",
       "      <td>...</td>\n",
       "      <td>...</td>\n",
       "      <td>...</td>\n",
       "      <td>...</td>\n",
       "      <td>...</td>\n",
       "    </tr>\n",
       "    <tr>\n",
       "      <th>2089</th>\n",
       "      <td>2022</td>\n",
       "      <td>Nov</td>\n",
       "      <td>Laptop_Website</td>\n",
       "      <td>New_Customer</td>\n",
       "      <td>Came_From_LinkedIn</td>\n",
       "      <td>Pune</td>\n",
       "      <td>651079.0</td>\n",
       "      <td>366626.0</td>\n",
       "      <td>185650</td>\n",
       "      <td>110735</td>\n",
       "    </tr>\n",
       "    <tr>\n",
       "      <th>2104</th>\n",
       "      <td>2022</td>\n",
       "      <td>Dec</td>\n",
       "      <td>Desktop_Website</td>\n",
       "      <td>Existing_Customer</td>\n",
       "      <td>Came_From_LinkedIn</td>\n",
       "      <td>Pune</td>\n",
       "      <td>NaN</td>\n",
       "      <td>NaN</td>\n",
       "      <td>149418</td>\n",
       "      <td>36698</td>\n",
       "    </tr>\n",
       "    <tr>\n",
       "      <th>2119</th>\n",
       "      <td>2022</td>\n",
       "      <td>Dec</td>\n",
       "      <td>Desktop_Website</td>\n",
       "      <td>New_Customer</td>\n",
       "      <td>Came_From_LinkedIn</td>\n",
       "      <td>Pune</td>\n",
       "      <td>324090.0</td>\n",
       "      <td>168545.0</td>\n",
       "      <td>83423</td>\n",
       "      <td>56517</td>\n",
       "    </tr>\n",
       "    <tr>\n",
       "      <th>2134</th>\n",
       "      <td>2022</td>\n",
       "      <td>Dec</td>\n",
       "      <td>Laptop_Website</td>\n",
       "      <td>Existing_Customer</td>\n",
       "      <td>Came_From_LinkedIn</td>\n",
       "      <td>Pune</td>\n",
       "      <td>NaN</td>\n",
       "      <td>NaN</td>\n",
       "      <td>231012</td>\n",
       "      <td>40554</td>\n",
       "    </tr>\n",
       "    <tr>\n",
       "      <th>2149</th>\n",
       "      <td>2022</td>\n",
       "      <td>Dec</td>\n",
       "      <td>Laptop_Website</td>\n",
       "      <td>New_Customer</td>\n",
       "      <td>Came_From_LinkedIn</td>\n",
       "      <td>Pune</td>\n",
       "      <td>573975.0</td>\n",
       "      <td>309110.0</td>\n",
       "      <td>122134</td>\n",
       "      <td>79401</td>\n",
       "    </tr>\n",
       "  </tbody>\n",
       "</table>\n",
       "<p>144 rows × 10 columns</p>\n",
       "</div>"
      ],
      "text/plain": [
       "      Year Month   Laptop/Desktop Type_of_Customers?         Coming from  \\\n",
       "4     2020   Jan  Desktop_Website  Existing_Customer  Came_From_LinkedIn   \n",
       "19    2020   Jan  Desktop_Website       New_Customer  Came_From_LinkedIn   \n",
       "34    2020   Jan   Laptop_Website  Existing_Customer  Came_From_LinkedIn   \n",
       "49    2020   Jan   Laptop_Website       New_Customer  Came_From_LinkedIn   \n",
       "64    2020   Feb  Desktop_Website  Existing_Customer  Came_From_LinkedIn   \n",
       "...    ...   ...              ...                ...                 ...   \n",
       "2089  2022   Nov   Laptop_Website       New_Customer  Came_From_LinkedIn   \n",
       "2104  2022   Dec  Desktop_Website  Existing_Customer  Came_From_LinkedIn   \n",
       "2119  2022   Dec  Desktop_Website       New_Customer  Came_From_LinkedIn   \n",
       "2134  2022   Dec   Laptop_Website  Existing_Customer  Came_From_LinkedIn   \n",
       "2149  2022   Dec   Laptop_Website       New_Customer  Came_From_LinkedIn   \n",
       "\n",
       "     Place_in_India   Level 1   Level 2  Level 3  Level 4  \n",
       "4              Pune       NaN       NaN   220937    46033  \n",
       "19             Pune  383260.0  305902.0   172827   122285  \n",
       "34             Pune       NaN       NaN   193520    40931  \n",
       "49             Pune  480675.0  347596.0   186713   135275  \n",
       "64             Pune       NaN       NaN   228051    36538  \n",
       "...             ...       ...       ...      ...      ...  \n",
       "2089           Pune  651079.0  366626.0   185650   110735  \n",
       "2104           Pune       NaN       NaN   149418    36698  \n",
       "2119           Pune  324090.0  168545.0    83423    56517  \n",
       "2134           Pune       NaN       NaN   231012    40554  \n",
       "2149           Pune  573975.0  309110.0   122134    79401  \n",
       "\n",
       "[144 rows x 10 columns]"
      ]
     },
     "execution_count": 7,
     "metadata": {},
     "output_type": "execute_result"
    }
   ],
   "source": [
    "# Give the number of new customers who are from Pune and came from LinkedIn\n",
    "ds[(ds['Place_in_India']=='Pune') & (ds['Coming from']=='Came_From_LinkedIn')]"
   ]
  },
  {
   "cell_type": "markdown",
   "id": "68e66a89",
   "metadata": {},
   "source": [
    "# <p style=\"text-align: center;\">_Part 1: Data cleaning_</p>"
   ]
  },
  {
   "cell_type": "markdown",
   "id": "50f2b47e",
   "metadata": {},
   "source": [
    "#### ```2. Replaces the null values (if they exist) with the average of the respective column in the data```"
   ]
  },
  {
   "cell_type": "code",
   "execution_count": 8,
   "id": "15806cf6",
   "metadata": {},
   "outputs": [],
   "source": [
    "ds['Level 1'] = ds['Level 1'].fillna(ds['Level 1'].mean())\n",
    "ds['Level 2'] = ds['Level 2'].fillna(ds['Level 2'].mean())\n"
   ]
  },
  {
   "cell_type": "code",
   "execution_count": 9,
   "id": "3078a568",
   "metadata": {},
   "outputs": [
    {
     "data": {
      "text/plain": [
       "Year                  0\n",
       "Month                 0\n",
       "Laptop/Desktop        0\n",
       "Type_of_Customers?    0\n",
       "Coming from           0\n",
       "Place_in_India        0\n",
       "Level 1               0\n",
       "Level 2               0\n",
       "Level 3               0\n",
       "Level 4               0\n",
       "dtype: int64"
      ]
     },
     "execution_count": 9,
     "metadata": {},
     "output_type": "execute_result"
    }
   ],
   "source": [
    "ds.isnull().sum()"
   ]
  },
  {
   "cell_type": "markdown",
   "id": "9a55258f",
   "metadata": {},
   "source": [
    "#### ```1. Write a function called data_cleaning() which, when called, would perform the following activity:```\n",
    " * Create a column at the end, named “inc/dec percentage”, which would give the growth/reduction percentage  \n",
    " in numbers of level 1 vs level 4 columns.  \n",
    " Like, (“Level 1” – “Level 4”) / “Level 1” * 100\n"
   ]
  },
  {
   "cell_type": "code",
   "execution_count": 10,
   "id": "9d1370ea",
   "metadata": {},
   "outputs": [],
   "source": [
    "def data_cleaning(L1,L2):\n",
    "    return (L1-L2) / L1 * 100"
   ]
  },
  {
   "cell_type": "code",
   "execution_count": 11,
   "id": "e9d9ed9c",
   "metadata": {},
   "outputs": [],
   "source": [
    "ds['inc/dec percentage']=data_cleaning(ds['Level 1'],ds['Level 4'])"
   ]
  },
  {
   "cell_type": "code",
   "execution_count": 12,
   "id": "9c633be1",
   "metadata": {},
   "outputs": [
    {
     "data": {
      "text/html": [
       "<div>\n",
       "<style scoped>\n",
       "    .dataframe tbody tr th:only-of-type {\n",
       "        vertical-align: middle;\n",
       "    }\n",
       "\n",
       "    .dataframe tbody tr th {\n",
       "        vertical-align: top;\n",
       "    }\n",
       "\n",
       "    .dataframe thead th {\n",
       "        text-align: right;\n",
       "    }\n",
       "</style>\n",
       "<table border=\"1\" class=\"dataframe\">\n",
       "  <thead>\n",
       "    <tr style=\"text-align: right;\">\n",
       "      <th></th>\n",
       "      <th>Year</th>\n",
       "      <th>Month</th>\n",
       "      <th>Laptop/Desktop</th>\n",
       "      <th>Type_of_Customers?</th>\n",
       "      <th>Coming from</th>\n",
       "      <th>Place_in_India</th>\n",
       "      <th>Level 1</th>\n",
       "      <th>Level 2</th>\n",
       "      <th>Level 3</th>\n",
       "      <th>Level 4</th>\n",
       "      <th>inc/dec percentage</th>\n",
       "    </tr>\n",
       "  </thead>\n",
       "  <tbody>\n",
       "    <tr>\n",
       "      <th>0</th>\n",
       "      <td>2020</td>\n",
       "      <td>Jan</td>\n",
       "      <td>Desktop_Website</td>\n",
       "      <td>Existing_Customer</td>\n",
       "      <td>Came_From_LinkedIn</td>\n",
       "      <td>Bengaluru</td>\n",
       "      <td>783870.222017</td>\n",
       "      <td>358215.416281</td>\n",
       "      <td>56892</td>\n",
       "      <td>17178</td>\n",
       "      <td>97.808566</td>\n",
       "    </tr>\n",
       "    <tr>\n",
       "      <th>1</th>\n",
       "      <td>2020</td>\n",
       "      <td>Jan</td>\n",
       "      <td>Desktop_Website</td>\n",
       "      <td>Existing_Customer</td>\n",
       "      <td>Came_From_LinkedIn</td>\n",
       "      <td>Hyderabad</td>\n",
       "      <td>783870.222017</td>\n",
       "      <td>358215.416281</td>\n",
       "      <td>41460</td>\n",
       "      <td>11916</td>\n",
       "      <td>98.479850</td>\n",
       "    </tr>\n",
       "    <tr>\n",
       "      <th>2</th>\n",
       "      <td>2020</td>\n",
       "      <td>Jan</td>\n",
       "      <td>Desktop_Website</td>\n",
       "      <td>Existing_Customer</td>\n",
       "      <td>Came_From_LinkedIn</td>\n",
       "      <td>Dehradun</td>\n",
       "      <td>783870.222017</td>\n",
       "      <td>358215.416281</td>\n",
       "      <td>55561</td>\n",
       "      <td>19461</td>\n",
       "      <td>97.517319</td>\n",
       "    </tr>\n",
       "    <tr>\n",
       "      <th>3</th>\n",
       "      <td>2020</td>\n",
       "      <td>Jan</td>\n",
       "      <td>Desktop_Website</td>\n",
       "      <td>Existing_Customer</td>\n",
       "      <td>Came_From_LinkedIn</td>\n",
       "      <td>Indore</td>\n",
       "      <td>783870.222017</td>\n",
       "      <td>358215.416281</td>\n",
       "      <td>320923</td>\n",
       "      <td>110667</td>\n",
       "      <td>85.881974</td>\n",
       "    </tr>\n",
       "    <tr>\n",
       "      <th>4</th>\n",
       "      <td>2020</td>\n",
       "      <td>Jan</td>\n",
       "      <td>Desktop_Website</td>\n",
       "      <td>Existing_Customer</td>\n",
       "      <td>Came_From_LinkedIn</td>\n",
       "      <td>Pune</td>\n",
       "      <td>783870.222017</td>\n",
       "      <td>358215.416281</td>\n",
       "      <td>220937</td>\n",
       "      <td>46033</td>\n",
       "      <td>94.127472</td>\n",
       "    </tr>\n",
       "  </tbody>\n",
       "</table>\n",
       "</div>"
      ],
      "text/plain": [
       "   Year Month   Laptop/Desktop Type_of_Customers?         Coming from  \\\n",
       "0  2020   Jan  Desktop_Website  Existing_Customer  Came_From_LinkedIn   \n",
       "1  2020   Jan  Desktop_Website  Existing_Customer  Came_From_LinkedIn   \n",
       "2  2020   Jan  Desktop_Website  Existing_Customer  Came_From_LinkedIn   \n",
       "3  2020   Jan  Desktop_Website  Existing_Customer  Came_From_LinkedIn   \n",
       "4  2020   Jan  Desktop_Website  Existing_Customer  Came_From_LinkedIn   \n",
       "\n",
       "  Place_in_India        Level 1        Level 2  Level 3  Level 4  \\\n",
       "0      Bengaluru  783870.222017  358215.416281    56892    17178   \n",
       "1      Hyderabad  783870.222017  358215.416281    41460    11916   \n",
       "2       Dehradun  783870.222017  358215.416281    55561    19461   \n",
       "3         Indore  783870.222017  358215.416281   320923   110667   \n",
       "4           Pune  783870.222017  358215.416281   220937    46033   \n",
       "\n",
       "   inc/dec percentage  \n",
       "0           97.808566  \n",
       "1           98.479850  \n",
       "2           97.517319  \n",
       "3           85.881974  \n",
       "4           94.127472  "
      ]
     },
     "execution_count": 12,
     "metadata": {},
     "output_type": "execute_result"
    }
   ],
   "source": [
    "ds.head()"
   ]
  },
  {
   "cell_type": "markdown",
   "id": "3b03f7a4",
   "metadata": {},
   "source": [
    "#### ```3. In column ‘B’ replace Jan with january, feb with february, march with march, apr with April and so on. Use the lambda function to do the same.```"
   ]
  },
  {
   "cell_type": "code",
   "execution_count": 13,
   "id": "4373f8ad",
   "metadata": {},
   "outputs": [],
   "source": [
    "from datetime import datetime\n",
    "ds['Month']=ds['Month'].apply(lambda x: datetime.strptime(x,'%b').strftime('%B'))"
   ]
  },
  {
   "cell_type": "code",
   "execution_count": 14,
   "id": "a2ea6d7d",
   "metadata": {},
   "outputs": [
    {
     "data": {
      "text/html": [
       "<div>\n",
       "<style scoped>\n",
       "    .dataframe tbody tr th:only-of-type {\n",
       "        vertical-align: middle;\n",
       "    }\n",
       "\n",
       "    .dataframe tbody tr th {\n",
       "        vertical-align: top;\n",
       "    }\n",
       "\n",
       "    .dataframe thead th {\n",
       "        text-align: right;\n",
       "    }\n",
       "</style>\n",
       "<table border=\"1\" class=\"dataframe\">\n",
       "  <thead>\n",
       "    <tr style=\"text-align: right;\">\n",
       "      <th></th>\n",
       "      <th>Year</th>\n",
       "      <th>Month</th>\n",
       "      <th>Laptop/Desktop</th>\n",
       "      <th>Type_of_Customers?</th>\n",
       "      <th>Coming from</th>\n",
       "      <th>Place_in_India</th>\n",
       "      <th>Level 1</th>\n",
       "      <th>Level 2</th>\n",
       "      <th>Level 3</th>\n",
       "      <th>Level 4</th>\n",
       "      <th>inc/dec percentage</th>\n",
       "    </tr>\n",
       "  </thead>\n",
       "  <tbody>\n",
       "    <tr>\n",
       "      <th>0</th>\n",
       "      <td>2020</td>\n",
       "      <td>January</td>\n",
       "      <td>Desktop_Website</td>\n",
       "      <td>Existing_Customer</td>\n",
       "      <td>Came_From_LinkedIn</td>\n",
       "      <td>Bengaluru</td>\n",
       "      <td>783870.222017</td>\n",
       "      <td>358215.416281</td>\n",
       "      <td>56892</td>\n",
       "      <td>17178</td>\n",
       "      <td>97.808566</td>\n",
       "    </tr>\n",
       "    <tr>\n",
       "      <th>1</th>\n",
       "      <td>2020</td>\n",
       "      <td>January</td>\n",
       "      <td>Desktop_Website</td>\n",
       "      <td>Existing_Customer</td>\n",
       "      <td>Came_From_LinkedIn</td>\n",
       "      <td>Hyderabad</td>\n",
       "      <td>783870.222017</td>\n",
       "      <td>358215.416281</td>\n",
       "      <td>41460</td>\n",
       "      <td>11916</td>\n",
       "      <td>98.479850</td>\n",
       "    </tr>\n",
       "    <tr>\n",
       "      <th>2</th>\n",
       "      <td>2020</td>\n",
       "      <td>January</td>\n",
       "      <td>Desktop_Website</td>\n",
       "      <td>Existing_Customer</td>\n",
       "      <td>Came_From_LinkedIn</td>\n",
       "      <td>Dehradun</td>\n",
       "      <td>783870.222017</td>\n",
       "      <td>358215.416281</td>\n",
       "      <td>55561</td>\n",
       "      <td>19461</td>\n",
       "      <td>97.517319</td>\n",
       "    </tr>\n",
       "    <tr>\n",
       "      <th>3</th>\n",
       "      <td>2020</td>\n",
       "      <td>January</td>\n",
       "      <td>Desktop_Website</td>\n",
       "      <td>Existing_Customer</td>\n",
       "      <td>Came_From_LinkedIn</td>\n",
       "      <td>Indore</td>\n",
       "      <td>783870.222017</td>\n",
       "      <td>358215.416281</td>\n",
       "      <td>320923</td>\n",
       "      <td>110667</td>\n",
       "      <td>85.881974</td>\n",
       "    </tr>\n",
       "    <tr>\n",
       "      <th>4</th>\n",
       "      <td>2020</td>\n",
       "      <td>January</td>\n",
       "      <td>Desktop_Website</td>\n",
       "      <td>Existing_Customer</td>\n",
       "      <td>Came_From_LinkedIn</td>\n",
       "      <td>Pune</td>\n",
       "      <td>783870.222017</td>\n",
       "      <td>358215.416281</td>\n",
       "      <td>220937</td>\n",
       "      <td>46033</td>\n",
       "      <td>94.127472</td>\n",
       "    </tr>\n",
       "  </tbody>\n",
       "</table>\n",
       "</div>"
      ],
      "text/plain": [
       "   Year    Month   Laptop/Desktop Type_of_Customers?         Coming from  \\\n",
       "0  2020  January  Desktop_Website  Existing_Customer  Came_From_LinkedIn   \n",
       "1  2020  January  Desktop_Website  Existing_Customer  Came_From_LinkedIn   \n",
       "2  2020  January  Desktop_Website  Existing_Customer  Came_From_LinkedIn   \n",
       "3  2020  January  Desktop_Website  Existing_Customer  Came_From_LinkedIn   \n",
       "4  2020  January  Desktop_Website  Existing_Customer  Came_From_LinkedIn   \n",
       "\n",
       "  Place_in_India        Level 1        Level 2  Level 3  Level 4  \\\n",
       "0      Bengaluru  783870.222017  358215.416281    56892    17178   \n",
       "1      Hyderabad  783870.222017  358215.416281    41460    11916   \n",
       "2       Dehradun  783870.222017  358215.416281    55561    19461   \n",
       "3         Indore  783870.222017  358215.416281   320923   110667   \n",
       "4           Pune  783870.222017  358215.416281   220937    46033   \n",
       "\n",
       "   inc/dec percentage  \n",
       "0           97.808566  \n",
       "1           98.479850  \n",
       "2           97.517319  \n",
       "3           85.881974  \n",
       "4           94.127472  "
      ]
     },
     "execution_count": 14,
     "metadata": {},
     "output_type": "execute_result"
    }
   ],
   "source": [
    "ds.head()"
   ]
  },
  {
   "cell_type": "markdown",
   "id": "dbe26d27",
   "metadata": {},
   "source": [
    "#### ```4. In column ‘E’ Replace “Came_From_LinkedIn” with “From LinkedIn” and “Landed_Directly” with “Direct_traffic” .```"
   ]
  },
  {
   "cell_type": "code",
   "execution_count": 15,
   "id": "17df3e9e",
   "metadata": {},
   "outputs": [],
   "source": [
    "ds['Coming from'].replace({'Came_From_LinkedIn':'From LinkedIn','Landed_Directly':'Direct_traffic'},inplace=True)\n"
   ]
  },
  {
   "cell_type": "code",
   "execution_count": 16,
   "id": "4dac2329",
   "metadata": {},
   "outputs": [
    {
     "data": {
      "text/plain": [
       "From LinkedIn           720\n",
       "Direct_traffic          720\n",
       "Unidentified_Sources    720\n",
       "Name: Coming from, dtype: int64"
      ]
     },
     "execution_count": 16,
     "metadata": {},
     "output_type": "execute_result"
    }
   ],
   "source": [
    "ds['Coming from'].value_counts()"
   ]
  },
  {
   "cell_type": "markdown",
   "id": "561dda31",
   "metadata": {},
   "source": [
    "# <p style=\"text-align: center;\">_Part 2: Descriptive statistics_</p>"
   ]
  },
  {
   "cell_type": "markdown",
   "id": "a09b7298",
   "metadata": {},
   "source": [
    "#### Write a function called descriptive_stats(‘Year’, ‘Month’ , ‘Laptop/Desktop’ , ‘Type_of_Customers?’ , ‘Coming from’) which, when called, would perform the following activity:\n",
    "\n"
   ]
  },
  {
   "cell_type": "markdown",
   "id": "8c6e5e93",
   "metadata": {},
   "source": [
    "#### ```1. Gives the minimum values present in all the level-columns. (Level 1, 2, 3, 4)```"
   ]
  },
  {
   "cell_type": "code",
   "execution_count": 17,
   "id": "22b50c97",
   "metadata": {},
   "outputs": [],
   "source": [
    "def  descriptive_stats(year=2020,month='January',Laptop_Desktop='Desktop_Website',\n",
    "                       Type_of_Customers='Existing_Customer',Coming_from='From LinkedIn'):\n",
    "    try:\n",
    "        df=ds[(ds['Year']==year) & (ds['Month']==month) & (ds['Laptop/Desktop']==Laptop_Desktop) & \n",
    "              (ds['Type_of_Customers?']==Type_of_Customers) & (ds['Coming from']==Coming_from)]\n",
    "    finally:\n",
    "        print('The min value in Level-1 is', np.min(df['Level 1']))\n",
    "        print('The min value in Level-2 is', np.min(df['Level 2']))\n",
    "        print('The min value in Level-3 is', np.min(df['Level 3']))\n",
    "        print('The min value in Level-4 is', np.min(df['Level 4']))"
   ]
  },
  {
   "cell_type": "code",
   "execution_count": 18,
   "id": "2a3fd03b",
   "metadata": {},
   "outputs": [
    {
     "data": {
      "application/javascript": [
       "\n",
       "        if (window._pyforest_update_imports_cell) { window._pyforest_update_imports_cell('import numpy as np\\nimport pandas as pd'); }\n",
       "    "
      ],
      "text/plain": [
       "<IPython.core.display.Javascript object>"
      ]
     },
     "metadata": {},
     "output_type": "display_data"
    },
    {
     "name": "stdout",
     "output_type": "stream",
     "text": [
      "The min value in Level-1 is 783870.2220166513\n"
     ]
    },
    {
     "data": {
      "application/javascript": [
       "\n",
       "        if (window._pyforest_update_imports_cell) { window._pyforest_update_imports_cell('import numpy as np\\nimport pandas as pd'); }\n",
       "    "
      ],
      "text/plain": [
       "<IPython.core.display.Javascript object>"
      ]
     },
     "metadata": {},
     "output_type": "display_data"
    },
    {
     "name": "stdout",
     "output_type": "stream",
     "text": [
      "The min value in Level-2 is 358215.4162812211\n"
     ]
    },
    {
     "data": {
      "application/javascript": [
       "\n",
       "        if (window._pyforest_update_imports_cell) { window._pyforest_update_imports_cell('import numpy as np\\nimport pandas as pd'); }\n",
       "    "
      ],
      "text/plain": [
       "<IPython.core.display.Javascript object>"
      ]
     },
     "metadata": {},
     "output_type": "display_data"
    },
    {
     "name": "stdout",
     "output_type": "stream",
     "text": [
      "The min value in Level-3 is 41460\n"
     ]
    },
    {
     "data": {
      "application/javascript": [
       "\n",
       "        if (window._pyforest_update_imports_cell) { window._pyforest_update_imports_cell('import numpy as np\\nimport pandas as pd'); }\n",
       "    "
      ],
      "text/plain": [
       "<IPython.core.display.Javascript object>"
      ]
     },
     "metadata": {},
     "output_type": "display_data"
    },
    {
     "name": "stdout",
     "output_type": "stream",
     "text": [
      "The min value in Level-4 is 11916\n"
     ]
    }
   ],
   "source": [
    "descriptive_stats()"
   ]
  },
  {
   "cell_type": "markdown",
   "id": "ec01856e",
   "metadata": {},
   "source": [
    "#### ```2. Gives the maximum value of “Level 2” / “Level 1” among  those who came directly to the via desktop website.```"
   ]
  },
  {
   "cell_type": "code",
   "execution_count": 19,
   "id": "63b74ddb",
   "metadata": {},
   "outputs": [],
   "source": [
    "def  descriptive_stats(year=2020,month='January',Laptop_Desktop='Laptop_Website',\n",
    "                       Type_of_Customers='Existing_Customer',Coming_from='From LinkedIn'):\n",
    "    try:\n",
    "        df=ds[(ds['Year']==year) & (ds['Month']==month) & (ds['Laptop/Desktop']==Laptop_Desktop) & \n",
    "              (ds['Type_of_Customers?']==Type_of_Customers) & (ds['Coming from']==Coming_from)]\n",
    "    finally:\n",
    "        return np.max(df['Level 2']/df['Level 1'])"
   ]
  },
  {
   "cell_type": "code",
   "execution_count": 20,
   "id": "459f89d9",
   "metadata": {},
   "outputs": [
    {
     "data": {
      "application/javascript": [
       "\n",
       "        if (window._pyforest_update_imports_cell) { window._pyforest_update_imports_cell('import numpy as np\\nimport pandas as pd'); }\n",
       "    "
      ],
      "text/plain": [
       "<IPython.core.display.Javascript object>"
      ]
     },
     "metadata": {},
     "output_type": "display_data"
    },
    {
     "data": {
      "text/plain": [
       "0.4569830645685782"
      ]
     },
     "execution_count": 20,
     "metadata": {},
     "output_type": "execute_result"
    }
   ],
   "source": [
    "descriptive_stats(Laptop_Desktop='Desktop_Website')"
   ]
  },
  {
   "cell_type": "markdown",
   "id": "c0ce15f7",
   "metadata": {},
   "source": [
    "#### 3.\tWould filter the dataframe with the given parameters; if any parameter is missed, then consider a default value to that parameter (e.g., default: ‘year’ – 2020, ‘month’-Jan, & so on) . Let’s call this new dataframe ‘df’."
   ]
  },
  {
   "cell_type": "code",
   "execution_count": 21,
   "id": "a9c3dd40",
   "metadata": {},
   "outputs": [],
   "source": [
    "def  descriptive_stats(year=2020,month='January',Laptop_Desktop='Laptop_Website',\n",
    "                       Type_of_Customers='Existing_Customer',Coming_from='From LinkedIn'):\n",
    "    try:\n",
    "        df=ds[(ds['Year']==year) & (ds['Month']==month) & (ds['Laptop/Desktop']==Laptop_Desktop) & \n",
    "              (ds['Type_of_Customers?']==Type_of_Customers) & (ds['Coming from']==Coming_from)]\n",
    "    finally:\n",
    "        return df"
   ]
  },
  {
   "cell_type": "code",
   "execution_count": 22,
   "id": "552be8eb",
   "metadata": {},
   "outputs": [],
   "source": [
    "df=descriptive_stats()"
   ]
  },
  {
   "cell_type": "markdown",
   "id": "81967168",
   "metadata": {},
   "source": [
    "#### 4. Generates the summary statistics (Mean, Median, Quartile, standard deviation) of all the numerical columns of the new dataframe, df."
   ]
  },
  {
   "cell_type": "code",
   "execution_count": 23,
   "id": "7dce301c",
   "metadata": {},
   "outputs": [
    {
     "data": {
      "text/html": [
       "<div>\n",
       "<style scoped>\n",
       "    .dataframe tbody tr th:only-of-type {\n",
       "        vertical-align: middle;\n",
       "    }\n",
       "\n",
       "    .dataframe tbody tr th {\n",
       "        vertical-align: top;\n",
       "    }\n",
       "\n",
       "    .dataframe thead th {\n",
       "        text-align: right;\n",
       "    }\n",
       "</style>\n",
       "<table border=\"1\" class=\"dataframe\">\n",
       "  <thead>\n",
       "    <tr style=\"text-align: right;\">\n",
       "      <th></th>\n",
       "      <th>Year</th>\n",
       "      <th>Level 1</th>\n",
       "      <th>Level 2</th>\n",
       "      <th>Level 3</th>\n",
       "      <th>Level 4</th>\n",
       "      <th>inc/dec percentage</th>\n",
       "    </tr>\n",
       "  </thead>\n",
       "  <tbody>\n",
       "    <tr>\n",
       "      <th>count</th>\n",
       "      <td>5.0</td>\n",
       "      <td>5.000000</td>\n",
       "      <td>5.000000</td>\n",
       "      <td>5.000000</td>\n",
       "      <td>5.000000</td>\n",
       "      <td>5.000000</td>\n",
       "    </tr>\n",
       "    <tr>\n",
       "      <th>mean</th>\n",
       "      <td>2020.0</td>\n",
       "      <td>783870.222017</td>\n",
       "      <td>358215.416281</td>\n",
       "      <td>103160.800000</td>\n",
       "      <td>26405.200000</td>\n",
       "      <td>96.631432</td>\n",
       "    </tr>\n",
       "    <tr>\n",
       "      <th>std</th>\n",
       "      <td>0.0</td>\n",
       "      <td>0.000000</td>\n",
       "      <td>0.000000</td>\n",
       "      <td>87206.924219</td>\n",
       "      <td>22713.523883</td>\n",
       "      <td>2.897613</td>\n",
       "    </tr>\n",
       "    <tr>\n",
       "      <th>min</th>\n",
       "      <td>2020.0</td>\n",
       "      <td>783870.222017</td>\n",
       "      <td>358215.416281</td>\n",
       "      <td>22092.000000</td>\n",
       "      <td>5405.000000</td>\n",
       "      <td>92.462018</td>\n",
       "    </tr>\n",
       "    <tr>\n",
       "      <th>25%</th>\n",
       "      <td>2020.0</td>\n",
       "      <td>783870.222017</td>\n",
       "      <td>358215.416281</td>\n",
       "      <td>40947.000000</td>\n",
       "      <td>13257.000000</td>\n",
       "      <td>94.778345</td>\n",
       "    </tr>\n",
       "    <tr>\n",
       "      <th>50%</th>\n",
       "      <td>2020.0</td>\n",
       "      <td>783870.222017</td>\n",
       "      <td>358215.416281</td>\n",
       "      <td>57469.000000</td>\n",
       "      <td>13345.000000</td>\n",
       "      <td>98.297550</td>\n",
       "    </tr>\n",
       "    <tr>\n",
       "      <th>75%</th>\n",
       "      <td>2020.0</td>\n",
       "      <td>783870.222017</td>\n",
       "      <td>358215.416281</td>\n",
       "      <td>193520.000000</td>\n",
       "      <td>40931.000000</td>\n",
       "      <td>98.308776</td>\n",
       "    </tr>\n",
       "    <tr>\n",
       "      <th>max</th>\n",
       "      <td>2020.0</td>\n",
       "      <td>783870.222017</td>\n",
       "      <td>358215.416281</td>\n",
       "      <td>201776.000000</td>\n",
       "      <td>59088.000000</td>\n",
       "      <td>99.310473</td>\n",
       "    </tr>\n",
       "  </tbody>\n",
       "</table>\n",
       "</div>"
      ],
      "text/plain": [
       "         Year        Level 1        Level 2        Level 3       Level 4  \\\n",
       "count     5.0       5.000000       5.000000       5.000000      5.000000   \n",
       "mean   2020.0  783870.222017  358215.416281  103160.800000  26405.200000   \n",
       "std       0.0       0.000000       0.000000   87206.924219  22713.523883   \n",
       "min    2020.0  783870.222017  358215.416281   22092.000000   5405.000000   \n",
       "25%    2020.0  783870.222017  358215.416281   40947.000000  13257.000000   \n",
       "50%    2020.0  783870.222017  358215.416281   57469.000000  13345.000000   \n",
       "75%    2020.0  783870.222017  358215.416281  193520.000000  40931.000000   \n",
       "max    2020.0  783870.222017  358215.416281  201776.000000  59088.000000   \n",
       "\n",
       "       inc/dec percentage  \n",
       "count            5.000000  \n",
       "mean            96.631432  \n",
       "std              2.897613  \n",
       "min             92.462018  \n",
       "25%             94.778345  \n",
       "50%             98.297550  \n",
       "75%             98.308776  \n",
       "max             99.310473  "
      ]
     },
     "execution_count": 23,
     "metadata": {},
     "output_type": "execute_result"
    }
   ],
   "source": [
    "df.describe()"
   ]
  },
  {
   "cell_type": "markdown",
   "id": "47e7e6d6",
   "metadata": {},
   "source": [
    "#### ```5. Produce a list of all the unique values & data types present in the non-numeric columns in df.```"
   ]
  },
  {
   "cell_type": "code",
   "execution_count": 24,
   "id": "128e000f",
   "metadata": {},
   "outputs": [
    {
     "data": {
      "application/javascript": [
       "\n",
       "        if (window._pyforest_update_imports_cell) { window._pyforest_update_imports_cell('import numpy as np\\nimport pandas as pd'); }\n",
       "    "
      ],
      "text/plain": [
       "<IPython.core.display.Javascript object>"
      ]
     },
     "metadata": {},
     "output_type": "display_data"
    }
   ],
   "source": [
    "newdf=df[~df.applymap(np.isreal)].dropna(axis=1)"
   ]
  },
  {
   "cell_type": "code",
   "execution_count": 25,
   "id": "7692f6a9",
   "metadata": {},
   "outputs": [
    {
     "data": {
      "text/plain": [
       "Month    Laptop/Desktop  Type_of_Customers?  Coming from    Place_in_India\n",
       "January  Laptop_Website  Existing_Customer   From LinkedIn  Bengaluru         1\n",
       "                                                            Dehradun          1\n",
       "                                                            Hyderabad         1\n",
       "                                                            Indore            1\n",
       "                                                            Pune              1\n",
       "dtype: int64"
      ]
     },
     "execution_count": 25,
     "metadata": {},
     "output_type": "execute_result"
    }
   ],
   "source": [
    "newdf.value_counts()"
   ]
  },
  {
   "cell_type": "markdown",
   "id": "5d6f38df",
   "metadata": {},
   "source": [
    "# <p style=\"text-align: center;\">_Part 3: Prescriptive statistics_</p>"
   ]
  },
  {
   "cell_type": "markdown",
   "id": "4d93233b",
   "metadata": {},
   "source": [
    "● ```The marketing manager has asked you the following questions, please provide the answers along with summarized data supporting your answer.```"
   ]
  },
  {
   "cell_type": "markdown",
   "id": "9ac2b582",
   "metadata": {},
   "source": [
    "#### ```1. What are the top 3 “Place_in_India”  on the basis of column “Level 4” for the year 2020 and 2022 separately ?```"
   ]
  },
  {
   "cell_type": "code",
   "execution_count": 26,
   "id": "e342a56d",
   "metadata": {},
   "outputs": [
    {
     "data": {
      "text/plain": [
       "Place_in_India\n",
       "Indore       20092071\n",
       "Pune         11039977\n",
       "Hyderabad     5156066\n",
       "Name: Level 4, dtype: int64"
      ]
     },
     "execution_count": 26,
     "metadata": {},
     "output_type": "execute_result"
    }
   ],
   "source": [
    "ds[ds['Year']==2020].groupby('Place_in_India')['Level 4'].sum().sort_values(ascending = False)[0:3]"
   ]
  },
  {
   "cell_type": "code",
   "execution_count": 27,
   "id": "36345d10",
   "metadata": {},
   "outputs": [
    {
     "data": {
      "text/plain": [
       "Place_in_India\n",
       "Indore       15104408\n",
       "Pune         11208722\n",
       "Hyderabad     8211936\n",
       "Name: Level 4, dtype: int64"
      ]
     },
     "execution_count": 27,
     "metadata": {},
     "output_type": "execute_result"
    }
   ],
   "source": [
    "ds[ds['Year']==2022].groupby('Place_in_India')['Level 4'].sum().sort_values(ascending = False)[0:3]"
   ]
  },
  {
   "cell_type": "code",
   "execution_count": 28,
   "id": "62606da2",
   "metadata": {},
   "outputs": [],
   "source": [
    "from prettytable import PrettyTable"
   ]
  },
  {
   "cell_type": "code",
   "execution_count": 29,
   "id": "89c1fc4f",
   "metadata": {},
   "outputs": [],
   "source": [
    "columns=['Year','Rank by column \"Level 4\"','Place in India','Sum of Level 4']"
   ]
  },
  {
   "cell_type": "code",
   "execution_count": 30,
   "id": "361cf068",
   "metadata": {},
   "outputs": [],
   "source": [
    "myTable=PrettyTable()"
   ]
  },
  {
   "cell_type": "code",
   "execution_count": 31,
   "id": "f7523bea",
   "metadata": {},
   "outputs": [],
   "source": [
    "myTable.add_column (columns [0], [2020,2020,2020,2022,2022,2022])\n",
    "myTable.add_column (columns [1], [1,2,3,1,2,3])\n",
    "myTable.add_column (columns [2], ['Indore','Pune','Hyderabad','Indore','Pune','Hyderabad'])\n",
    "myTable.add_column (columns [3], [20092071,11039977,5156066,15104408,11208722,8211936])                   "
   ]
  },
  {
   "cell_type": "code",
   "execution_count": 32,
   "id": "7a578686",
   "metadata": {},
   "outputs": [
    {
     "data": {
      "text/html": [
       "<table>\n",
       "    <thead>\n",
       "        <tr>\n",
       "            <th>Year</th>\n",
       "            <th>Rank by column &quot;Level 4&quot;</th>\n",
       "            <th>Place in India</th>\n",
       "            <th>Sum of Level 4</th>\n",
       "        </tr>\n",
       "    </thead>\n",
       "    <tbody>\n",
       "        <tr>\n",
       "            <td>2020</td>\n",
       "            <td>1</td>\n",
       "            <td>Indore</td>\n",
       "            <td>20092071</td>\n",
       "        </tr>\n",
       "        <tr>\n",
       "            <td>2020</td>\n",
       "            <td>2</td>\n",
       "            <td>Pune</td>\n",
       "            <td>11039977</td>\n",
       "        </tr>\n",
       "        <tr>\n",
       "            <td>2020</td>\n",
       "            <td>3</td>\n",
       "            <td>Hyderabad</td>\n",
       "            <td>5156066</td>\n",
       "        </tr>\n",
       "        <tr>\n",
       "            <td>2022</td>\n",
       "            <td>1</td>\n",
       "            <td>Indore</td>\n",
       "            <td>15104408</td>\n",
       "        </tr>\n",
       "        <tr>\n",
       "            <td>2022</td>\n",
       "            <td>2</td>\n",
       "            <td>Pune</td>\n",
       "            <td>11208722</td>\n",
       "        </tr>\n",
       "        <tr>\n",
       "            <td>2022</td>\n",
       "            <td>3</td>\n",
       "            <td>Hyderabad</td>\n",
       "            <td>8211936</td>\n",
       "        </tr>\n",
       "    </tbody>\n",
       "</table>"
      ],
      "text/plain": [
       "+------+--------------------------+----------------+----------------+\n",
       "| Year | Rank by column \"Level 4\" | Place in India | Sum of Level 4 |\n",
       "+------+--------------------------+----------------+----------------+\n",
       "| 2020 |            1             |     Indore     |    20092071    |\n",
       "| 2020 |            2             |      Pune      |    11039977    |\n",
       "| 2020 |            3             |   Hyderabad    |    5156066     |\n",
       "| 2022 |            1             |     Indore     |    15104408    |\n",
       "| 2022 |            2             |      Pune      |    11208722    |\n",
       "| 2022 |            3             |   Hyderabad    |    8211936     |\n",
       "+------+--------------------------+----------------+----------------+"
      ]
     },
     "execution_count": 32,
     "metadata": {},
     "output_type": "execute_result"
    }
   ],
   "source": [
    "myTable"
   ]
  },
  {
   "cell_type": "markdown",
   "id": "1334dde6",
   "metadata": {},
   "source": [
    "#### ```2. Please, provide the data for all the cities & for all the years, the following format as shown in the below snippet: ```"
   ]
  },
  {
   "cell_type": "code",
   "execution_count": 33,
   "id": "b8324b38",
   "metadata": {},
   "outputs": [],
   "source": [
    "years=[2020,2021,2022]\n",
    "Cities=['Indore','Pune','Hyderabad','Bengaluru','Dehradun']"
   ]
  },
  {
   "cell_type": "code",
   "execution_count": 34,
   "id": "660f3b86",
   "metadata": {},
   "outputs": [
    {
     "name": "stdout",
     "output_type": "stream",
     "text": [
      "[0.5852073914259412, 0.5022477635362148, 0.5017030548447854, 0.48807859612250165, 0.4831885858946706, 0.4617003780008351, 0.36387755575938385, 0.43994753620440546, 0.4533926181812659, 0.4362845778682233, 0.4993839462124685, 0.39038709348029743, 0.4575083764106214, 0.44128206841658546, 0.41956449553003783]\n"
     ]
    }
   ],
   "source": [
    "ans2=[]\n",
    "for year in years:\n",
    "    for city in Cities:\n",
    "        ans2.append(ds[(ds['Year']==year) & (ds['Place_in_India']==city)]['Level 2'].sum()/\n",
    "                    ds[(ds['Year']==year) & (ds['Place_in_India']==city)]['Level 1'].sum())\n",
    "\n",
    "print(ans2)"
   ]
  },
  {
   "cell_type": "code",
   "execution_count": 35,
   "id": "39547e18",
   "metadata": {},
   "outputs": [
    {
     "name": "stdout",
     "output_type": "stream",
     "text": [
      "[0.3218993101433343, 0.266549792548309, 0.13621973565529866, 0.10929596629359199, 0.10191009875262824, 0.2589780092003898, 0.16471664287701288, 0.14813535100539038, 0.09044953829708374, 0.08111230914885623, 0.31337315640513663, 0.19187725202873565, 0.20666553579546237, 0.10152391089638246, 0.10234779582947769]\n"
     ]
    }
   ],
   "source": [
    "ans3=[]\n",
    "for year in years:\n",
    "    for city in Cities:\n",
    "        ans3.append(ds[(ds['Year']==year) & (ds['Place_in_India']==city)]['Level 3'].sum()/\n",
    "                    ds[(ds['Year']==year) & (ds['Place_in_India']==city)]['Level 1'].sum())\n",
    "\n",
    "print(ans3)"
   ]
  },
  {
   "cell_type": "code",
   "execution_count": 36,
   "id": "9f27c6ce",
   "metadata": {},
   "outputs": [
    {
     "name": "stdout",
     "output_type": "stream",
     "text": [
      "[0.15264925215927333, 0.09641817037768548, 0.06581175115009014, 0.046336078027423296, 0.04910573210183924, 0.11507137719252311, 0.06940614468671387, 0.07489361821127677, 0.04274442506578652, 0.031763968493578244, 0.0900947984223213, 0.059378469005192766, 0.06936354725298538, 0.0485032436415467, 0.033521203289574544]\n"
     ]
    }
   ],
   "source": [
    "ans4=[]\n",
    "for year in years:\n",
    "    for city in Cities:\n",
    "        ans4.append(ds[(ds['Year']==year) & (ds['Place_in_India']==city)]['Level 4'].sum()/\n",
    "                    ds[(ds['Year']==year) & (ds['Place_in_India']==city)]['Level 1'].sum())\n",
    "\n",
    "print(ans4)"
   ]
  },
  {
   "cell_type": "code",
   "execution_count": 37,
   "id": "9c4d8ec5",
   "metadata": {},
   "outputs": [],
   "source": [
    "columns=['City','Year','(Sum of Level-2)/(Sum of Level-1)','(Sum of Level-3)/(Sum of Level-1)',\n",
    "         '(Sum of Level-4)/(Sum of Level-1)']"
   ]
  },
  {
   "cell_type": "code",
   "execution_count": 38,
   "id": "2eed5ded",
   "metadata": {},
   "outputs": [],
   "source": [
    "mytable=PrettyTable()"
   ]
  },
  {
   "cell_type": "code",
   "execution_count": 39,
   "id": "3827a4e3",
   "metadata": {},
   "outputs": [],
   "source": [
    "mytable.add_column (columns [0], ['Indore','Pune','Hyderabad','Bengaluru','Dehradun','Indore','Pune','Hyderabad',\n",
    "                                  'Bengaluru','Dehradun','Indore','Pune','Hyderabad','Bengaluru','Dehradun'])\n",
    "mytable.add_column (columns [1], [2020,2020,2020,2020,2020,2021,2021,2021,2021,2021,2022,2022,2022,2022,2022])\n",
    "mytable.add_column (columns [2], [0.5852073914259412, 0.5022477635362148, 0.5017030548447854, 0.48807859612250165, \n",
    "                                  0.4831885858946706, 0.4617003780008351, 0.36387755575938385, 0.43994753620440546,\n",
    "                                  0.4533926181812659, 0.4362845778682233, 0.4993839462124685, 0.39038709348029743,\n",
    "                                  0.4575083764106214, 0.44128206841658546, 0.41956449553003783])\n",
    "mytable.add_column (columns [3], [0.3218993101433343, 0.266549792548309, 0.13621973565529866, 0.10929596629359199, \n",
    "                                  0.10191009875262824, 0.2589780092003898, 0.16471664287701288, 0.14813535100539038, \n",
    "                                  0.09044953829708374, 0.08111230914885623, 0.31337315640513663, 0.19187725202873565, \n",
    "                                  0.20666553579546237, 0.10152391089638246, 0.10234779582947769])\n",
    "mytable.add_column (columns [4], [0.15264925215927333, 0.09641817037768548, 0.06581175115009014, 0.046336078027423296,\n",
    "                                  0.04910573210183924, 0.11507137719252311, 0.06940614468671387, 0.07489361821127677,\n",
    "                                  0.04274442506578652, 0.031763968493578244, 0.0900947984223213, 0.059378469005192766, \n",
    "                                  0.06936354725298538, 0.0485032436415467, 0.033521203289574544])                   "
   ]
  },
  {
   "cell_type": "code",
   "execution_count": 40,
   "id": "0fcdf3b0",
   "metadata": {},
   "outputs": [
    {
     "data": {
      "text/html": [
       "<table>\n",
       "    <thead>\n",
       "        <tr>\n",
       "            <th>City</th>\n",
       "            <th>Year</th>\n",
       "            <th>(Sum of Level-2)/(Sum of Level-1)</th>\n",
       "            <th>(Sum of Level-3)/(Sum of Level-1)</th>\n",
       "            <th>(Sum of Level-4)/(Sum of Level-1)</th>\n",
       "        </tr>\n",
       "    </thead>\n",
       "    <tbody>\n",
       "        <tr>\n",
       "            <td>Indore</td>\n",
       "            <td>2020</td>\n",
       "            <td>0.5852073914259412</td>\n",
       "            <td>0.3218993101433343</td>\n",
       "            <td>0.15264925215927333</td>\n",
       "        </tr>\n",
       "        <tr>\n",
       "            <td>Pune</td>\n",
       "            <td>2020</td>\n",
       "            <td>0.5022477635362148</td>\n",
       "            <td>0.266549792548309</td>\n",
       "            <td>0.09641817037768548</td>\n",
       "        </tr>\n",
       "        <tr>\n",
       "            <td>Hyderabad</td>\n",
       "            <td>2020</td>\n",
       "            <td>0.5017030548447854</td>\n",
       "            <td>0.13621973565529866</td>\n",
       "            <td>0.06581175115009014</td>\n",
       "        </tr>\n",
       "        <tr>\n",
       "            <td>Bengaluru</td>\n",
       "            <td>2020</td>\n",
       "            <td>0.48807859612250165</td>\n",
       "            <td>0.10929596629359199</td>\n",
       "            <td>0.046336078027423296</td>\n",
       "        </tr>\n",
       "        <tr>\n",
       "            <td>Dehradun</td>\n",
       "            <td>2020</td>\n",
       "            <td>0.4831885858946706</td>\n",
       "            <td>0.10191009875262824</td>\n",
       "            <td>0.04910573210183924</td>\n",
       "        </tr>\n",
       "        <tr>\n",
       "            <td>Indore</td>\n",
       "            <td>2021</td>\n",
       "            <td>0.4617003780008351</td>\n",
       "            <td>0.2589780092003898</td>\n",
       "            <td>0.11507137719252311</td>\n",
       "        </tr>\n",
       "        <tr>\n",
       "            <td>Pune</td>\n",
       "            <td>2021</td>\n",
       "            <td>0.36387755575938385</td>\n",
       "            <td>0.16471664287701288</td>\n",
       "            <td>0.06940614468671387</td>\n",
       "        </tr>\n",
       "        <tr>\n",
       "            <td>Hyderabad</td>\n",
       "            <td>2021</td>\n",
       "            <td>0.43994753620440546</td>\n",
       "            <td>0.14813535100539038</td>\n",
       "            <td>0.07489361821127677</td>\n",
       "        </tr>\n",
       "        <tr>\n",
       "            <td>Bengaluru</td>\n",
       "            <td>2021</td>\n",
       "            <td>0.4533926181812659</td>\n",
       "            <td>0.09044953829708374</td>\n",
       "            <td>0.04274442506578652</td>\n",
       "        </tr>\n",
       "        <tr>\n",
       "            <td>Dehradun</td>\n",
       "            <td>2021</td>\n",
       "            <td>0.4362845778682233</td>\n",
       "            <td>0.08111230914885623</td>\n",
       "            <td>0.031763968493578244</td>\n",
       "        </tr>\n",
       "        <tr>\n",
       "            <td>Indore</td>\n",
       "            <td>2022</td>\n",
       "            <td>0.4993839462124685</td>\n",
       "            <td>0.31337315640513663</td>\n",
       "            <td>0.0900947984223213</td>\n",
       "        </tr>\n",
       "        <tr>\n",
       "            <td>Pune</td>\n",
       "            <td>2022</td>\n",
       "            <td>0.39038709348029743</td>\n",
       "            <td>0.19187725202873565</td>\n",
       "            <td>0.059378469005192766</td>\n",
       "        </tr>\n",
       "        <tr>\n",
       "            <td>Hyderabad</td>\n",
       "            <td>2022</td>\n",
       "            <td>0.4575083764106214</td>\n",
       "            <td>0.20666553579546237</td>\n",
       "            <td>0.06936354725298538</td>\n",
       "        </tr>\n",
       "        <tr>\n",
       "            <td>Bengaluru</td>\n",
       "            <td>2022</td>\n",
       "            <td>0.44128206841658546</td>\n",
       "            <td>0.10152391089638246</td>\n",
       "            <td>0.0485032436415467</td>\n",
       "        </tr>\n",
       "        <tr>\n",
       "            <td>Dehradun</td>\n",
       "            <td>2022</td>\n",
       "            <td>0.41956449553003783</td>\n",
       "            <td>0.10234779582947769</td>\n",
       "            <td>0.033521203289574544</td>\n",
       "        </tr>\n",
       "    </tbody>\n",
       "</table>"
      ],
      "text/plain": [
       "+-----------+------+-----------------------------------+-----------------------------------+-----------------------------------+\n",
       "|    City   | Year | (Sum of Level-2)/(Sum of Level-1) | (Sum of Level-3)/(Sum of Level-1) | (Sum of Level-4)/(Sum of Level-1) |\n",
       "+-----------+------+-----------------------------------+-----------------------------------+-----------------------------------+\n",
       "|   Indore  | 2020 |         0.5852073914259412        |         0.3218993101433343        |        0.15264925215927333        |\n",
       "|    Pune   | 2020 |         0.5022477635362148        |         0.266549792548309         |        0.09641817037768548        |\n",
       "| Hyderabad | 2020 |         0.5017030548447854        |        0.13621973565529866        |        0.06581175115009014        |\n",
       "| Bengaluru | 2020 |        0.48807859612250165        |        0.10929596629359199        |        0.046336078027423296       |\n",
       "|  Dehradun | 2020 |         0.4831885858946706        |        0.10191009875262824        |        0.04910573210183924        |\n",
       "|   Indore  | 2021 |         0.4617003780008351        |         0.2589780092003898        |        0.11507137719252311        |\n",
       "|    Pune   | 2021 |        0.36387755575938385        |        0.16471664287701288        |        0.06940614468671387        |\n",
       "| Hyderabad | 2021 |        0.43994753620440546        |        0.14813535100539038        |        0.07489361821127677        |\n",
       "| Bengaluru | 2021 |         0.4533926181812659        |        0.09044953829708374        |        0.04274442506578652        |\n",
       "|  Dehradun | 2021 |         0.4362845778682233        |        0.08111230914885623        |        0.031763968493578244       |\n",
       "|   Indore  | 2022 |         0.4993839462124685        |        0.31337315640513663        |         0.0900947984223213        |\n",
       "|    Pune   | 2022 |        0.39038709348029743        |        0.19187725202873565        |        0.059378469005192766       |\n",
       "| Hyderabad | 2022 |         0.4575083764106214        |        0.20666553579546237        |        0.06936354725298538        |\n",
       "| Bengaluru | 2022 |        0.44128206841658546        |        0.10152391089638246        |         0.0485032436415467        |\n",
       "|  Dehradun | 2022 |        0.41956449553003783        |        0.10234779582947769        |        0.033521203289574544       |\n",
       "+-----------+------+-----------------------------------+-----------------------------------+-----------------------------------+"
      ]
     },
     "execution_count": 40,
     "metadata": {},
     "output_type": "execute_result"
    }
   ],
   "source": [
    "mytable"
   ]
  },
  {
   "cell_type": "markdown",
   "id": "793ab69f",
   "metadata": {},
   "source": [
    "#### ```3. What are the bottom 3 “Place_in_India”  on the basis of column “Level 4”/ “Level 1” for the year 2021 and 2022 separately ?```"
   ]
  },
  {
   "cell_type": "code",
   "execution_count": 41,
   "id": "7390597b",
   "metadata": {},
   "outputs": [],
   "source": [
    "ds['Level-4/Level-1']=ds['Level 4']/ds['Level 1']"
   ]
  },
  {
   "cell_type": "code",
   "execution_count": 42,
   "id": "3c50621e",
   "metadata": {},
   "outputs": [
    {
     "data": {
      "text/plain": [
       "Place_in_India\n",
       "Pune         12.988073\n",
       "Bengaluru    11.467041\n",
       "Dehradun      9.197871\n",
       "Name: Level-4/Level-1, dtype: float64"
      ]
     },
     "execution_count": 42,
     "metadata": {},
     "output_type": "execute_result"
    }
   ],
   "source": [
    "ds[ds['Year']==2021].groupby('Place_in_India')['Level-4/Level-1'].sum().sort_values(ascending = False)[2:]"
   ]
  },
  {
   "cell_type": "code",
   "execution_count": 43,
   "id": "64b9037c",
   "metadata": {},
   "outputs": [
    {
     "data": {
      "text/plain": [
       "Place_in_India\n",
       "Bengaluru    10.357496\n",
       "Pune         10.001287\n",
       "Dehradun      8.226502\n",
       "Name: Level-4/Level-1, dtype: float64"
      ]
     },
     "execution_count": 43,
     "metadata": {},
     "output_type": "execute_result"
    }
   ],
   "source": [
    "ds[ds['Year']==2022].groupby('Place_in_India')['Level-4/Level-1'].sum().sort_values(ascending = False)[2:]"
   ]
  },
  {
   "cell_type": "markdown",
   "id": "4bb8fb48",
   "metadata": {},
   "source": [
    "#### ```4. Which place in India is having “Level 4” value greater than 150000 most of the times?```"
   ]
  },
  {
   "cell_type": "code",
   "execution_count": 44,
   "id": "32c76c0a",
   "metadata": {},
   "outputs": [],
   "source": [
    "newds=ds.where(ds['Level 4']>150000).dropna()"
   ]
  },
  {
   "cell_type": "code",
   "execution_count": 45,
   "id": "c47836ef",
   "metadata": {},
   "outputs": [
    {
     "data": {
      "text/plain": [
       "Indore       143\n",
       "Pune          71\n",
       "Hyderabad     14\n",
       "Bengaluru      6\n",
       "Dehradun       2\n",
       "Name: Place_in_India, dtype: int64"
      ]
     },
     "execution_count": 45,
     "metadata": {},
     "output_type": "execute_result"
    }
   ],
   "source": [
    "newds['Place_in_India'].value_counts()"
   ]
  },
  {
   "cell_type": "markdown",
   "id": "1cab30b6",
   "metadata": {},
   "source": [
    "**City 'Indore' has “Level 4” value greater than 150000 most of the times**"
   ]
  },
  {
   "cell_type": "markdown",
   "id": "1f9d4faf",
   "metadata": {},
   "source": [
    "#### ```5. Which place in India is having least number of existing customers?```"
   ]
  },
  {
   "cell_type": "code",
   "execution_count": 46,
   "id": "58f322fb",
   "metadata": {},
   "outputs": [
    {
     "data": {
      "text/plain": [
       "Place_in_India\n",
       "Bengaluru    1.693160e+08\n",
       "Dehradun     1.693160e+08\n",
       "Hyderabad    1.693160e+08\n",
       "Indore       1.693160e+08\n",
       "Pune         1.686413e+08\n",
       "Name: Level 1, dtype: float64"
      ]
     },
     "execution_count": 46,
     "metadata": {},
     "output_type": "execute_result"
    }
   ],
   "source": [
    "ds[ds['Type_of_Customers?']=='Existing_Customer'].groupby('Place_in_India')['Level 1'].sum().sort_values(ascending = False)"
   ]
  },
  {
   "cell_type": "markdown",
   "id": "49eaf899",
   "metadata": {},
   "source": [
    "**City 'Pune' has least number of 'Existing customers'**"
   ]
  },
  {
   "cell_type": "code",
   "execution_count": null,
   "id": "f7f82bd5",
   "metadata": {},
   "outputs": [],
   "source": []
  },
  {
   "cell_type": "code",
   "execution_count": null,
   "id": "12445a81",
   "metadata": {},
   "outputs": [],
   "source": []
  },
  {
   "cell_type": "markdown",
   "id": "ca69b5e5",
   "metadata": {},
   "source": [
    "# <p style=\"text-align: center;\">_Part 4: Simple Machine learning questions_</p>"
   ]
  },
  {
   "cell_type": "code",
   "execution_count": 47,
   "id": "940d540e",
   "metadata": {},
   "outputs": [],
   "source": [
    "ds=ds.drop(columns=['inc/dec percentage','Level-4/Level-1'], axis=1)"
   ]
  },
  {
   "cell_type": "code",
   "execution_count": 48,
   "id": "386fa69c",
   "metadata": {},
   "outputs": [
    {
     "data": {
      "application/javascript": [
       "\n",
       "        if (window._pyforest_update_imports_cell) { window._pyforest_update_imports_cell('import numpy as np\\nimport pandas as pd'); }\n",
       "    "
      ],
      "text/plain": [
       "<IPython.core.display.Javascript object>"
      ]
     },
     "metadata": {},
     "output_type": "display_data"
    }
   ],
   "source": [
    "from datetime import datetime as dt\n",
    "ds['month_year'] = pd.to_datetime(ds.Month, format='%B').dt.month.astype(str) +\"/\"+ ds.Year.astype(str)"
   ]
  },
  {
   "cell_type": "code",
   "execution_count": 49,
   "id": "943cc814",
   "metadata": {},
   "outputs": [
    {
     "data": {
      "application/javascript": [
       "\n",
       "        if (window._pyforest_update_imports_cell) { window._pyforest_update_imports_cell('import numpy as np\\nimport pandas as pd'); }\n",
       "    "
      ],
      "text/plain": [
       "<IPython.core.display.Javascript object>"
      ]
     },
     "metadata": {},
     "output_type": "display_data"
    }
   ],
   "source": [
    "ds['Date'] = pd.to_datetime(ds['month_year'])"
   ]
  },
  {
   "cell_type": "markdown",
   "id": "3fa3f4a6",
   "metadata": {},
   "source": [
    "#### 1. Predict “Level 4” future values for the next 1 year, given the parameters of the function. (Please make sure the parameters have default values in place) Also, plot it."
   ]
  },
  {
   "cell_type": "code",
   "execution_count": 50,
   "id": "0e43e4d0",
   "metadata": {},
   "outputs": [],
   "source": [
    "def  predict_future(Laptop_Desktop='Desktop_Website', Place_in_India='Bengaluru',\n",
    "                       Type_of_Customers='Existing_Customer',Coming_from='From LinkedIn'):\n",
    "    try:\n",
    "        dss=ds[(ds['Laptop/Desktop']==Laptop_Desktop) & (ds['Place_in_India']==Place_in_India) &\n",
    "              (ds['Type_of_Customers?']==Type_of_Customers) & (ds['Coming from']==Coming_from)]\n",
    "        dss=dss.reset_index(drop=True)\n",
    "        dss=dss[dss.columns[dss.columns.isin(['Date','Level 4'])]]\n",
    "        dss.set_index(\"Date\", inplace = True)\n",
    "        dss['LogSales'] = np.log(dss['Level 4'])\n",
    "        dss['log_diff']=dss['LogSales'].diff()\n",
    "        dss=dss.dropna()\n",
    "        Ntest = 12\n",
    "        train = dss.iloc[:-Ntest]\n",
    "        test = dss.iloc[-Ntest:]\n",
    "        import pmdarima as pm\n",
    "        model = pm.auto_arima(train['log_diff'],\n",
    "                        trace=True,\n",
    "                        suppress_warnings=True,\n",
    "                        seasonal=True, m=12)\n",
    "        train_pred = model.predict_in_sample(start=11, end=23)\n",
    "        test_pred = model.predict(n_periods=24)\n",
    "        fore=test_pred[-13:]\n",
    "        dff=fore.to_frame(name='Forecast')\n",
    "        dff=dff.replace(dff['Forecast'][0], dss['LogSales'][-1])\n",
    "        dff=dff[:-1]\n",
    "        dff['Forecast']=dff['Forecast'].cumsum()\n",
    "        dff['Forecast']=np.exp(dff['Forecast'])\n",
    "    finally:\n",
    "        return dff, plt.figure(figsize=(10,5)), plt.plot(dss.index, dss['log_diff'], label='data'), \\\n",
    "    plt.plot(dss.index[11:24], train_pred, label='fitted'), plt.plot(test_pred, label='predict+forecast')"
   ]
  },
  {
   "cell_type": "code",
   "execution_count": 51,
   "id": "b041fc2a",
   "metadata": {},
   "outputs": [
    {
     "data": {
      "application/javascript": [
       "\n",
       "        if (window._pyforest_update_imports_cell) { window._pyforest_update_imports_cell('import numpy as np\\nimport pandas as pd'); }\n",
       "    "
      ],
      "text/plain": [
       "<IPython.core.display.Javascript object>"
      ]
     },
     "metadata": {},
     "output_type": "display_data"
    },
    {
     "name": "stderr",
     "output_type": "stream",
     "text": [
      "C:\\Users\\owner\\anaconda3\\lib\\site-packages\\pmdarima\\arima\\utils.py:117: UserWarning: Appropriate D value may not have been reached; length of seasonally-differenced array (11) is shorter than m (12). Using D=1\n",
      "  warnings.warn(\"Appropriate D value may not have been reached; \"\n"
     ]
    },
    {
     "name": "stdout",
     "output_type": "stream",
     "text": [
      "Performing stepwise search to minimize aic\n"
     ]
    },
    {
     "name": "stderr",
     "output_type": "stream",
     "text": [
      "C:\\Users\\owner\\anaconda3\\lib\\site-packages\\statsmodels\\tsa\\statespace\\sarimax.py:1899: RuntimeWarning: divide by zero encountered in reciprocal\n",
      "  return np.roots(self.polynomial_reduced_ar)**-1\n",
      "C:\\Users\\owner\\anaconda3\\lib\\site-packages\\statsmodels\\tsa\\statespace\\sarimax.py:1906: RuntimeWarning: divide by zero encountered in reciprocal\n",
      "  return np.roots(self.polynomial_reduced_ma)**-1\n"
     ]
    },
    {
     "name": "stdout",
     "output_type": "stream",
     "text": [
      " ARIMA(2,0,2)(1,1,1)[12] intercept   : AIC=16.000, Time=0.33 sec\n",
      " ARIMA(0,0,0)(0,1,0)[12] intercept   : AIC=0.470, Time=0.06 sec\n",
      " ARIMA(1,0,0)(1,1,0)[12] intercept   : AIC=4.351, Time=0.40 sec\n",
      " ARIMA(0,0,1)(0,1,1)[12] intercept   : AIC=4.215, Time=0.11 sec\n",
      " ARIMA(0,0,0)(0,1,0)[12]             : AIC=-1.333, Time=0.03 sec\n",
      " ARIMA(0,0,0)(1,1,0)[12] intercept   : AIC=2.470, Time=0.11 sec\n",
      " ARIMA(0,0,0)(0,1,1)[12] intercept   : AIC=2.470, Time=0.10 sec\n",
      " ARIMA(0,0,0)(1,1,1)[12] intercept   : AIC=4.470, Time=0.16 sec\n",
      " ARIMA(1,0,0)(0,1,0)[12] intercept   : AIC=2.356, Time=0.07 sec\n",
      " ARIMA(0,0,1)(0,1,0)[12] intercept   : AIC=2.215, Time=0.06 sec\n",
      " ARIMA(1,0,1)(0,1,0)[12] intercept   : AIC=2.127, Time=0.21 sec\n",
      "\n",
      "Best model:  ARIMA(0,0,0)(0,1,0)[12]          \n",
      "Total fit time: 1.672 seconds\n"
     ]
    },
    {
     "data": {
      "application/javascript": [
       "\n",
       "        if (window._pyforest_update_imports_cell) { window._pyforest_update_imports_cell('import numpy as np\\nimport pandas as pd'); }\n",
       "    "
      ],
      "text/plain": [
       "<IPython.core.display.Javascript object>"
      ]
     },
     "metadata": {},
     "output_type": "display_data"
    },
    {
     "data": {
      "application/javascript": [
       "\n",
       "        if (window._pyforest_update_imports_cell) { window._pyforest_update_imports_cell('import numpy as np\\nimport matplotlib.pyplot as plt\\nimport pandas as pd'); }\n",
       "    "
      ],
      "text/plain": [
       "<IPython.core.display.Javascript object>"
      ]
     },
     "metadata": {},
     "output_type": "display_data"
    },
    {
     "data": {
      "application/javascript": [
       "\n",
       "        if (window._pyforest_update_imports_cell) { window._pyforest_update_imports_cell('import numpy as np\\nimport matplotlib.pyplot as plt\\nimport pandas as pd'); }\n",
       "    "
      ],
      "text/plain": [
       "<IPython.core.display.Javascript object>"
      ]
     },
     "metadata": {},
     "output_type": "display_data"
    },
    {
     "data": {
      "application/javascript": [
       "\n",
       "        if (window._pyforest_update_imports_cell) { window._pyforest_update_imports_cell('import numpy as np\\nimport matplotlib.pyplot as plt\\nimport pandas as pd'); }\n",
       "    "
      ],
      "text/plain": [
       "<IPython.core.display.Javascript object>"
      ]
     },
     "metadata": {},
     "output_type": "display_data"
    },
    {
     "data": {
      "application/javascript": [
       "\n",
       "        if (window._pyforest_update_imports_cell) { window._pyforest_update_imports_cell('import numpy as np\\nimport matplotlib.pyplot as plt\\nimport pandas as pd'); }\n",
       "    "
      ],
      "text/plain": [
       "<IPython.core.display.Javascript object>"
      ]
     },
     "metadata": {},
     "output_type": "display_data"
    },
    {
     "data": {
      "text/plain": [
       "(                Forecast\n",
       " 2022-12-01  14718.000000\n",
       " 2023-01-01  15320.083080\n",
       " 2023-02-01  13700.879742\n",
       " 2023-03-01  15681.146813\n",
       " 2023-04-01  21785.729514\n",
       " 2023-05-01  22395.257208\n",
       " 2023-06-01  14088.930197\n",
       " 2023-07-01  12219.401745\n",
       " 2023-08-01   9786.874431\n",
       " 2023-09-01  11045.944613\n",
       " 2023-10-01  13725.074734\n",
       " 2023-11-01  12862.430197,\n",
       " <Figure size 1000x500 with 1 Axes>,\n",
       " [<matplotlib.lines.Line2D at 0x12a4b4208b0>],\n",
       " [<matplotlib.lines.Line2D at 0x12a4a35f550>],\n",
       " [<matplotlib.lines.Line2D at 0x12a4a35fb50>])"
      ]
     },
     "execution_count": 51,
     "metadata": {},
     "output_type": "execute_result"
    },
    {
     "data": {
      "image/png": "[encoded data removed]",
      "text/plain": [
       "<Figure size 1000x500 with 1 Axes>"
      ]
     },
     "metadata": {},
     "output_type": "display_data"
    }
   ],
   "source": [
    "predict_future()"
   ]
  },
  {
   "cell_type": "markdown",
   "id": "3a62aa0b",
   "metadata": {},
   "source": [
    "#### 2. Generates the MAPE and RMSE of your prediction of the year 2022, 2021 & 2020 for the given parameters."
   ]
  },
  {
   "cell_type": "code",
   "execution_count": 52,
   "id": "c92959ca",
   "metadata": {},
   "outputs": [],
   "source": [
    "from sklearn.metrics import mean_squared_error, mean_absolute_percentage_error"
   ]
  },
  {
   "cell_type": "code",
   "execution_count": 53,
   "id": "bd312058",
   "metadata": {},
   "outputs": [],
   "source": [
    "def  predict_future(Laptop_Desktop='Desktop_Website', Place_in_India='Bengaluru',\n",
    "                       Type_of_Customers='Existing_Customer',Coming_from='From LinkedIn'):\n",
    "    try:\n",
    "        dss=ds[(ds['Laptop/Desktop']==Laptop_Desktop) & (ds['Place_in_India']==Place_in_India) &\n",
    "              (ds['Type_of_Customers?']==Type_of_Customers) & (ds['Coming from']==Coming_from)]\n",
    "        dss=dss.reset_index(drop=True)\n",
    "        dss=dss[dss.columns[dss.columns.isin(['Date','Level 4'])]]\n",
    "        dss.set_index(\"Date\", inplace = True)\n",
    "        dss['LogSales'] = np.log(dss['Level 4'])\n",
    "        dss['log_diff']=dss['LogSales'].diff()\n",
    "        dss=dss.dropna()\n",
    "        Ntest = 12\n",
    "        train = dss.iloc[:-Ntest]\n",
    "        test = dss.iloc[-Ntest:]\n",
    "        import pmdarima as pm\n",
    "        model = pm.auto_arima(train['log_diff'],\n",
    "                        trace=True,\n",
    "                        suppress_warnings=True,\n",
    "                        seasonal=True, m=12)\n",
    "        train_pred = model.predict_in_sample(start=11, end=23)\n",
    "        test_pred = model.predict(n_periods=24)\n",
    "        train_pred=train_pred[:-1]\n",
    "        dftr=train_pred.to_frame(name='Forecast')\n",
    "        dftr=dftr.replace(dftr['Forecast'][0], dss['LogSales'][-1])\n",
    "        dftr['Forecast']=dftr['Forecast'].cumsum()\n",
    "        dftr['Forecast']=np.exp(dftr['Forecast'])\n",
    "        mape_2020=mean_absolute_percentage_error(dftr['Forecast'], dss['Level 4'][11:23])\n",
    "        rmse_2020=np.sqrt(mean_squared_error(dftr['Forecast'], dss['Level 4'][11:23]))\n",
    "        test_pred=test_pred[:12]\n",
    "        dfte=test_pred.to_frame(name='Forecast')\n",
    "        dfte=dfte.replace(dfte['Forecast'][0], dss['LogSales'][-1])\n",
    "        dfte['Forecast']=dfte['Forecast'].cumsum()\n",
    "        dfte['Forecast']=np.exp(dfte['Forecast'])\n",
    "        rmse_2021=np.sqrt(mean_squared_error(dfte['Forecast'], dss['Level 4'][-12:]))\n",
    "        mape_2021=mean_absolute_percentage_error(dfte['Forecast'], dss['Level 4'][-12:])\n",
    "    finally:\n",
    "        print('Mean absolute percentage error for 2020 is:', mape_2020)\n",
    "        print('Mean absolute percentage error for 2021 is:', mape_2021)\n",
    "        print('Root mean squared error for 2020 is:', rmse_2020)\n",
    "        print('Root mean squared error for 2021 is:', rmse_2021)"
   ]
  },
  {
   "cell_type": "code",
   "execution_count": 54,
   "id": "0648f960",
   "metadata": {},
   "outputs": [
    {
     "data": {
      "application/javascript": [
       "\n",
       "        if (window._pyforest_update_imports_cell) { window._pyforest_update_imports_cell('import numpy as np\\nimport matplotlib.pyplot as plt\\nimport pandas as pd'); }\n",
       "    "
      ],
      "text/plain": [
       "<IPython.core.display.Javascript object>"
      ]
     },
     "metadata": {},
     "output_type": "display_data"
    },
    {
     "name": "stderr",
     "output_type": "stream",
     "text": [
      "C:\\Users\\owner\\anaconda3\\lib\\site-packages\\pmdarima\\arima\\utils.py:117: UserWarning: Appropriate D value may not have been reached; length of seasonally-differenced array (11) is shorter than m (12). Using D=1\n",
      "  warnings.warn(\"Appropriate D value may not have been reached; \"\n"
     ]
    },
    {
     "name": "stdout",
     "output_type": "stream",
     "text": [
      "Performing stepwise search to minimize aic\n"
     ]
    },
    {
     "name": "stderr",
     "output_type": "stream",
     "text": [
      "C:\\Users\\owner\\anaconda3\\lib\\site-packages\\statsmodels\\tsa\\statespace\\sarimax.py:1899: RuntimeWarning: divide by zero encountered in reciprocal\n",
      "  return np.roots(self.polynomial_reduced_ar)**-1\n",
      "C:\\Users\\owner\\anaconda3\\lib\\site-packages\\statsmodels\\tsa\\statespace\\sarimax.py:1906: RuntimeWarning: divide by zero encountered in reciprocal\n",
      "  return np.roots(self.polynomial_reduced_ma)**-1\n"
     ]
    },
    {
     "name": "stdout",
     "output_type": "stream",
     "text": [
      " ARIMA(2,0,2)(1,1,1)[12] intercept   : AIC=16.000, Time=0.35 sec\n",
      " ARIMA(0,0,0)(0,1,0)[12] intercept   : AIC=0.470, Time=0.06 sec\n",
      " ARIMA(1,0,0)(1,1,0)[12] intercept   : AIC=4.351, Time=0.39 sec\n",
      " ARIMA(0,0,1)(0,1,1)[12] intercept   : AIC=4.215, Time=0.12 sec\n",
      " ARIMA(0,0,0)(0,1,0)[12]             : AIC=-1.333, Time=0.03 sec\n",
      " ARIMA(0,0,0)(1,1,0)[12] intercept   : AIC=2.470, Time=0.13 sec\n",
      " ARIMA(0,0,0)(0,1,1)[12] intercept   : AIC=2.470, Time=0.09 sec\n",
      " ARIMA(0,0,0)(1,1,1)[12] intercept   : AIC=4.470, Time=0.11 sec\n",
      " ARIMA(1,0,0)(0,1,0)[12] intercept   : AIC=2.356, Time=0.09 sec\n",
      " ARIMA(0,0,1)(0,1,0)[12] intercept   : AIC=2.215, Time=0.06 sec\n",
      " ARIMA(1,0,1)(0,1,0)[12] intercept   : AIC=2.127, Time=0.21 sec\n",
      "\n",
      "Best model:  ARIMA(0,0,0)(0,1,0)[12]          \n",
      "Total fit time: 1.671 seconds\n"
     ]
    },
    {
     "data": {
      "application/javascript": [
       "\n",
       "        if (window._pyforest_update_imports_cell) { window._pyforest_update_imports_cell('import numpy as np\\nimport matplotlib.pyplot as plt\\nimport pandas as pd'); }\n",
       "    "
      ],
      "text/plain": [
       "<IPython.core.display.Javascript object>"
      ]
     },
     "metadata": {},
     "output_type": "display_data"
    },
    {
     "data": {
      "application/javascript": [
       "\n",
       "        if (window._pyforest_update_imports_cell) { window._pyforest_update_imports_cell('import numpy as np\\nimport matplotlib.pyplot as plt\\nimport pandas as pd'); }\n",
       "    "
      ],
      "text/plain": [
       "<IPython.core.display.Javascript object>"
      ]
     },
     "metadata": {},
     "output_type": "display_data"
    },
    {
     "data": {
      "application/javascript": [
       "\n",
       "        if (window._pyforest_update_imports_cell) { window._pyforest_update_imports_cell('import numpy as np\\nimport matplotlib.pyplot as plt\\nimport pandas as pd'); }\n",
       "    "
      ],
      "text/plain": [
       "<IPython.core.display.Javascript object>"
      ]
     },
     "metadata": {},
     "output_type": "display_data"
    },
    {
     "data": {
      "application/javascript": [
       "\n",
       "        if (window._pyforest_update_imports_cell) { window._pyforest_update_imports_cell('import numpy as np\\nimport matplotlib.pyplot as plt\\nimport pandas as pd'); }\n",
       "    "
      ],
      "text/plain": [
       "<IPython.core.display.Javascript object>"
      ]
     },
     "metadata": {},
     "output_type": "display_data"
    },
    {
     "name": "stdout",
     "output_type": "stream",
     "text": [
      "Mean absolute percentage error for 2020 is: 0.2285784540701524\n",
      "Mean absolute percentage error for 2021 is: 0.3107465043922679\n",
      "Root mean squared error for 2020 is: 4462.667468181607\n",
      "Root mean squared error for 2021 is: 5872.525433642393\n"
     ]
    }
   ],
   "source": [
    "predict_future()"
   ]
  },
  {
   "cell_type": "markdown",
   "id": "07df6f07",
   "metadata": {},
   "source": [
    "#### 3. Plot a line graph of the level 4 actual numbers from 2020-2022 & in the same graph, there should be the predicted numbers for 2023. The x-axis should be the timeline from 2020 Jan to 2023 Dec and the y-axis should be the value of the level 4 column"
   ]
  },
  {
   "cell_type": "code",
   "execution_count": 55,
   "id": "ebc1acdd",
   "metadata": {},
   "outputs": [],
   "source": [
    "def  predict_future(Laptop_Desktop='Desktop_Website', Place_in_India='Bengaluru',\n",
    "                       Type_of_Customers='Existing_Customer',Coming_from='From LinkedIn'):\n",
    "    try:\n",
    "        dss=ds[(ds['Laptop/Desktop']==Laptop_Desktop) & (ds['Place_in_India']==Place_in_India) &\n",
    "              (ds['Type_of_Customers?']==Type_of_Customers) & (ds['Coming from']==Coming_from)]\n",
    "        dss=dss.reset_index(drop=True)\n",
    "        dss=dss[dss.columns[dss.columns.isin(['Date','Level 4'])]]\n",
    "        dss.set_index(\"Date\", inplace = True)\n",
    "        dss['LogSales'] = np.log(dss['Level 4'])\n",
    "        dss['log_diff']=dss['LogSales'].diff()\n",
    "        dss=dss.dropna()\n",
    "        Ntest = 12\n",
    "        train = dss.iloc[:-Ntest]\n",
    "        test = dss.iloc[-Ntest:]\n",
    "        import pmdarima as pm\n",
    "        model = pm.auto_arima(train['log_diff'],\n",
    "                        trace=True,\n",
    "                        suppress_warnings=True,\n",
    "                        seasonal=True, m=12)\n",
    "        train_pred = model.predict_in_sample(start=11, end=23)\n",
    "        test_pred = model.predict(n_periods=24)\n",
    "        fore=test_pred[-13:]\n",
    "        dff=fore.to_frame(name='Forecast')\n",
    "        dff=dff.replace(dff['Forecast'][0], dss['LogSales'][-1])\n",
    "        dff=dff[:-1]\n",
    "        dff['Forecast']=dff['Forecast'].cumsum()\n",
    "        dff['Forecast']=np.exp(dff['Forecast'])\n",
    "    finally:\n",
    "        return plt.figure(figsize=(10,5)), plt.plot(dss.index, dss['Level 4'], label='actual'), \\\n",
    "    plt.plot(dff.index[-13:], dff['Forecast'][-13:], label='forecast')"
   ]
  },
  {
   "cell_type": "code",
   "execution_count": 56,
   "id": "66689129",
   "metadata": {},
   "outputs": [
    {
     "data": {
      "application/javascript": [
       "\n",
       "        if (window._pyforest_update_imports_cell) { window._pyforest_update_imports_cell('import numpy as np\\nimport matplotlib.pyplot as plt\\nimport pandas as pd'); }\n",
       "    "
      ],
      "text/plain": [
       "<IPython.core.display.Javascript object>"
      ]
     },
     "metadata": {},
     "output_type": "display_data"
    },
    {
     "name": "stdout",
     "output_type": "stream",
     "text": [
      "Performing stepwise search to minimize aic\n"
     ]
    },
    {
     "name": "stderr",
     "output_type": "stream",
     "text": [
      "C:\\Users\\owner\\anaconda3\\lib\\site-packages\\pmdarima\\arima\\utils.py:117: UserWarning: Appropriate D value may not have been reached; length of seasonally-differenced array (11) is shorter than m (12). Using D=1\n",
      "  warnings.warn(\"Appropriate D value may not have been reached; \"\n",
      "C:\\Users\\owner\\anaconda3\\lib\\site-packages\\statsmodels\\tsa\\statespace\\sarimax.py:1899: RuntimeWarning: divide by zero encountered in reciprocal\n",
      "  return np.roots(self.polynomial_reduced_ar)**-1\n",
      "C:\\Users\\owner\\anaconda3\\lib\\site-packages\\statsmodels\\tsa\\statespace\\sarimax.py:1906: RuntimeWarning: divide by zero encountered in reciprocal\n",
      "  return np.roots(self.polynomial_reduced_ma)**-1\n"
     ]
    },
    {
     "name": "stdout",
     "output_type": "stream",
     "text": [
      " ARIMA(2,0,2)(1,1,1)[12] intercept   : AIC=16.000, Time=0.36 sec\n",
      " ARIMA(0,0,0)(0,1,0)[12] intercept   : AIC=0.470, Time=0.05 sec\n",
      " ARIMA(1,0,0)(1,1,0)[12] intercept   : AIC=4.351, Time=0.39 sec\n",
      " ARIMA(0,0,1)(0,1,1)[12] intercept   : AIC=4.215, Time=0.12 sec\n",
      " ARIMA(0,0,0)(0,1,0)[12]             : AIC=-1.333, Time=0.04 sec\n",
      " ARIMA(0,0,0)(1,1,0)[12] intercept   : AIC=2.470, Time=0.12 sec\n",
      " ARIMA(0,0,0)(0,1,1)[12] intercept   : AIC=2.470, Time=0.08 sec\n",
      " ARIMA(0,0,0)(1,1,1)[12] intercept   : AIC=4.470, Time=0.10 sec\n",
      " ARIMA(1,0,0)(0,1,0)[12] intercept   : AIC=2.356, Time=0.09 sec\n",
      " ARIMA(0,0,1)(0,1,0)[12] intercept   : AIC=2.215, Time=0.06 sec\n",
      " ARIMA(1,0,1)(0,1,0)[12] intercept   : AIC=2.127, Time=0.21 sec\n",
      "\n",
      "Best model:  ARIMA(0,0,0)(0,1,0)[12]          \n",
      "Total fit time: 1.652 seconds\n"
     ]
    },
    {
     "data": {
      "application/javascript": [
       "\n",
       "        if (window._pyforest_update_imports_cell) { window._pyforest_update_imports_cell('import numpy as np\\nimport matplotlib.pyplot as plt\\nimport pandas as pd'); }\n",
       "    "
      ],
      "text/plain": [
       "<IPython.core.display.Javascript object>"
      ]
     },
     "metadata": {},
     "output_type": "display_data"
    },
    {
     "data": {
      "application/javascript": [
       "\n",
       "        if (window._pyforest_update_imports_cell) { window._pyforest_update_imports_cell('import numpy as np\\nimport matplotlib.pyplot as plt\\nimport pandas as pd'); }\n",
       "    "
      ],
      "text/plain": [
       "<IPython.core.display.Javascript object>"
      ]
     },
     "metadata": {},
     "output_type": "display_data"
    },
    {
     "data": {
      "application/javascript": [
       "\n",
       "        if (window._pyforest_update_imports_cell) { window._pyforest_update_imports_cell('import numpy as np\\nimport matplotlib.pyplot as plt\\nimport pandas as pd'); }\n",
       "    "
      ],
      "text/plain": [
       "<IPython.core.display.Javascript object>"
      ]
     },
     "metadata": {},
     "output_type": "display_data"
    },
    {
     "data": {
      "application/javascript": [
       "\n",
       "        if (window._pyforest_update_imports_cell) { window._pyforest_update_imports_cell('import numpy as np\\nimport matplotlib.pyplot as plt\\nimport pandas as pd'); }\n",
       "    "
      ],
      "text/plain": [
       "<IPython.core.display.Javascript object>"
      ]
     },
     "metadata": {},
     "output_type": "display_data"
    },
    {
     "data": {
      "text/plain": [
       "(<Figure size 1000x500 with 1 Axes>,\n",
       " [<matplotlib.lines.Line2D at 0x12a4b8be2b0>],\n",
       " [<matplotlib.lines.Line2D at 0x12a4b89fe80>])"
      ]
     },
     "execution_count": 56,
     "metadata": {},
     "output_type": "execute_result"
    },
    {
     "data": {
      "image/png": "[encoded data removed]",
      "text/plain": [
       "<Figure size 1000x500 with 1 Axes>"
      ]
     },
     "metadata": {},
     "output_type": "display_data"
    }
   ],
   "source": [
    "predict_future()"
   ]
  },
  {
   "cell_type": "markdown",
   "id": "9dd01a95",
   "metadata": {},
   "source": [
    "#### 4. Considering “Level 4”, which places in India would do better in 2023 w.r.t 2022 ? "
   ]
  },
  {
   "cell_type": "markdown",
   "id": "40ab1f1f",
   "metadata": {},
   "source": [
    "In this, I will compare the maximum values from year 2022 and 2023 "
   ]
  },
  {
   "cell_type": "code",
   "execution_count": 57,
   "id": "be9416ec",
   "metadata": {},
   "outputs": [],
   "source": [
    "cities=['Indore','Pune','Hyderabad','Bengaluru','Dehradun']"
   ]
  },
  {
   "cell_type": "markdown",
   "id": "ef8c4c48",
   "metadata": {},
   "source": [
    "**For 2022:**"
   ]
  },
  {
   "cell_type": "code",
   "execution_count": 58,
   "id": "d4b09d18",
   "metadata": {},
   "outputs": [
    {
     "data": {
      "application/javascript": [
       "\n",
       "        if (window._pyforest_update_imports_cell) { window._pyforest_update_imports_cell('import numpy as np\\nimport matplotlib.pyplot as plt\\nimport pandas as pd'); }\n",
       "    "
      ],
      "text/plain": [
       "<IPython.core.display.Javascript object>"
      ]
     },
     "metadata": {},
     "output_type": "display_data"
    },
    {
     "name": "stdout",
     "output_type": "stream",
     "text": [
      "{'Indore'} 91266\n"
     ]
    },
    {
     "data": {
      "application/javascript": [
       "\n",
       "        if (window._pyforest_update_imports_cell) { window._pyforest_update_imports_cell('import numpy as np\\nimport matplotlib.pyplot as plt\\nimport pandas as pd'); }\n",
       "    "
      ],
      "text/plain": [
       "<IPython.core.display.Javascript object>"
      ]
     },
     "metadata": {},
     "output_type": "display_data"
    },
    {
     "name": "stdout",
     "output_type": "stream",
     "text": [
      "{'Pune'} 42130\n"
     ]
    },
    {
     "data": {
      "application/javascript": [
       "\n",
       "        if (window._pyforest_update_imports_cell) { window._pyforest_update_imports_cell('import numpy as np\\nimport matplotlib.pyplot as plt\\nimport pandas as pd'); }\n",
       "    "
      ],
      "text/plain": [
       "<IPython.core.display.Javascript object>"
      ]
     },
     "metadata": {},
     "output_type": "display_data"
    },
    {
     "name": "stdout",
     "output_type": "stream",
     "text": [
      "{'Hyderabad'} 91754\n"
     ]
    },
    {
     "data": {
      "application/javascript": [
       "\n",
       "        if (window._pyforest_update_imports_cell) { window._pyforest_update_imports_cell('import numpy as np\\nimport matplotlib.pyplot as plt\\nimport pandas as pd'); }\n",
       "    "
      ],
      "text/plain": [
       "<IPython.core.display.Javascript object>"
      ]
     },
     "metadata": {},
     "output_type": "display_data"
    },
    {
     "name": "stdout",
     "output_type": "stream",
     "text": [
      "{'Bengaluru'} 18070\n"
     ]
    },
    {
     "data": {
      "application/javascript": [
       "\n",
       "        if (window._pyforest_update_imports_cell) { window._pyforest_update_imports_cell('import numpy as np\\nimport matplotlib.pyplot as plt\\nimport pandas as pd'); }\n",
       "    "
      ],
      "text/plain": [
       "<IPython.core.display.Javascript object>"
      ]
     },
     "metadata": {},
     "output_type": "display_data"
    },
    {
     "name": "stdout",
     "output_type": "stream",
     "text": [
      "{'Dehradun'} 33534\n"
     ]
    }
   ],
   "source": [
    "for city in cities:\n",
    "    print({city}, np.max(ds[(ds['Laptop/Desktop']=='Desktop_Website') & (ds['Type_of_Customers?']=='Existing_Customer') & \n",
    "   (ds['Coming from']=='From LinkedIn') & (ds['Year']==2022) & (ds['Place_in_India']==city)]['Level 4']))"
   ]
  },
  {
   "cell_type": "markdown",
   "id": "10c3f1e0",
   "metadata": {},
   "source": [
    "**For 2023:**"
   ]
  },
  {
   "cell_type": "code",
   "execution_count": 59,
   "id": "9c8dc905",
   "metadata": {},
   "outputs": [],
   "source": [
    "def  predict_future(Laptop_Desktop='Desktop_Website', Place_in_India='Bengaluru',\n",
    "                       Type_of_Customers='Existing_Customer',Coming_from='From LinkedIn'):\n",
    "    try:\n",
    "        dss=ds[(ds['Laptop/Desktop']==Laptop_Desktop) & (ds['Place_in_India']==Place_in_India) &\n",
    "              (ds['Type_of_Customers?']==Type_of_Customers) & (ds['Coming from']==Coming_from)]\n",
    "        dss=dss.reset_index(drop=True)\n",
    "        dss=dss[dss.columns[dss.columns.isin(['Date','Level 4'])]]\n",
    "        dss.set_index(\"Date\", inplace = True)\n",
    "        dss['LogSales'] = np.log(dss['Level 4'])\n",
    "        dss['log_diff']=dss['LogSales'].diff()\n",
    "        dss=dss.dropna()\n",
    "        Ntest = 12\n",
    "        train = dss.iloc[:-Ntest]\n",
    "        test = dss.iloc[-Ntest:]\n",
    "        import pmdarima as pm\n",
    "        model = pm.auto_arima(train['log_diff'],\n",
    "                        trace=True,\n",
    "                        suppress_warnings=True,\n",
    "                        seasonal=True, m=12)\n",
    "        train_pred = model.predict_in_sample(start=11, end=23)\n",
    "        test_pred = model.predict(n_periods=24)\n",
    "        fore=test_pred[-13:]\n",
    "        dff=fore.to_frame(name='Forecast')\n",
    "        dff=dff.replace(dff['Forecast'][0], dss['LogSales'][-1])\n",
    "        dff=dff[:-1]\n",
    "        dff['Forecast']=dff['Forecast'].cumsum()\n",
    "        dff['Forecast']=np.exp(dff['Forecast'])\n",
    "    finally:\n",
    "        return dff"
   ]
  },
  {
   "cell_type": "code",
   "execution_count": 60,
   "id": "31380890",
   "metadata": {},
   "outputs": [
    {
     "data": {
      "application/javascript": [
       "\n",
       "        if (window._pyforest_update_imports_cell) { window._pyforest_update_imports_cell('import numpy as np\\nimport matplotlib.pyplot as plt\\nimport pandas as pd'); }\n",
       "    "
      ],
      "text/plain": [
       "<IPython.core.display.Javascript object>"
      ]
     },
     "metadata": {},
     "output_type": "display_data"
    },
    {
     "data": {
      "application/javascript": [
       "\n",
       "        if (window._pyforest_update_imports_cell) { window._pyforest_update_imports_cell('import numpy as np\\nimport matplotlib.pyplot as plt\\nimport pandas as pd'); }\n",
       "    "
      ],
      "text/plain": [
       "<IPython.core.display.Javascript object>"
      ]
     },
     "metadata": {},
     "output_type": "display_data"
    },
    {
     "name": "stdout",
     "output_type": "stream",
     "text": [
      "Performing stepwise search to minimize aic\n"
     ]
    },
    {
     "name": "stderr",
     "output_type": "stream",
     "text": [
      "C:\\Users\\owner\\anaconda3\\lib\\site-packages\\pmdarima\\arima\\utils.py:117: UserWarning: Appropriate D value may not have been reached; length of seasonally-differenced array (11) is shorter than m (12). Using D=1\n",
      "  warnings.warn(\"Appropriate D value may not have been reached; \"\n",
      "C:\\Users\\owner\\anaconda3\\lib\\site-packages\\statsmodels\\tsa\\statespace\\sarimax.py:1899: RuntimeWarning: divide by zero encountered in reciprocal\n",
      "  return np.roots(self.polynomial_reduced_ar)**-1\n",
      "C:\\Users\\owner\\anaconda3\\lib\\site-packages\\statsmodels\\tsa\\statespace\\sarimax.py:1906: RuntimeWarning: divide by zero encountered in reciprocal\n",
      "  return np.roots(self.polynomial_reduced_ma)**-1\n"
     ]
    },
    {
     "name": "stdout",
     "output_type": "stream",
     "text": [
      " ARIMA(2,0,2)(1,1,1)[12] intercept   : AIC=16.000, Time=0.32 sec\n",
      " ARIMA(0,0,0)(0,1,0)[12] intercept   : AIC=2.903, Time=0.05 sec\n",
      " ARIMA(1,0,0)(1,1,0)[12] intercept   : AIC=inf, Time=0.40 sec\n",
      " ARIMA(0,0,1)(0,1,1)[12] intercept   : AIC=4.649, Time=0.12 sec\n",
      " ARIMA(0,0,0)(0,1,0)[12]             : AIC=0.908, Time=0.03 sec\n",
      " ARIMA(0,0,0)(1,1,0)[12] intercept   : AIC=4.903, Time=0.11 sec\n",
      " ARIMA(0,0,0)(0,1,1)[12] intercept   : AIC=4.903, Time=0.11 sec\n",
      " ARIMA(0,0,0)(1,1,1)[12] intercept   : AIC=6.903, Time=0.12 sec\n",
      " ARIMA(1,0,0)(0,1,0)[12] intercept   : AIC=4.090, Time=0.08 sec\n",
      " ARIMA(0,0,1)(0,1,0)[12] intercept   : AIC=2.649, Time=0.06 sec\n",
      " ARIMA(1,0,1)(0,1,0)[12] intercept   : AIC=4.457, Time=0.12 sec\n",
      "\n",
      "Best model:  ARIMA(0,0,0)(0,1,0)[12]          \n",
      "Total fit time: 1.544 seconds\n"
     ]
    },
    {
     "data": {
      "application/javascript": [
       "\n",
       "        if (window._pyforest_update_imports_cell) { window._pyforest_update_imports_cell('import numpy as np\\nimport matplotlib.pyplot as plt\\nimport pandas as pd'); }\n",
       "    "
      ],
      "text/plain": [
       "<IPython.core.display.Javascript object>"
      ]
     },
     "metadata": {},
     "output_type": "display_data"
    },
    {
     "name": "stderr",
     "output_type": "stream",
     "text": [
      "C:\\Users\\owner\\anaconda3\\lib\\site-packages\\numpy\\core\\fromnumeric.py:84: FutureWarning: In a future version, DataFrame.max(axis=None) will return a scalar max over the entire DataFrame. To retain the old behavior, use 'frame.max(axis=0)' or just 'frame.max()'\n",
      "  return reduction(axis=axis, out=out, **passkwargs)\n"
     ]
    },
    {
     "data": {
      "text/plain": [
       "Forecast    61558.772365\n",
       "dtype: float64"
      ]
     },
     "execution_count": 60,
     "metadata": {},
     "output_type": "execute_result"
    }
   ],
   "source": [
    "np.max(predict_future(Place_in_India='Pune'))"
   ]
  },
  {
   "cell_type": "code",
   "execution_count": 61,
   "id": "e2d37602",
   "metadata": {},
   "outputs": [
    {
     "data": {
      "application/javascript": [
       "\n",
       "        if (window._pyforest_update_imports_cell) { window._pyforest_update_imports_cell('import numpy as np\\nimport matplotlib.pyplot as plt\\nimport pandas as pd'); }\n",
       "    "
      ],
      "text/plain": [
       "<IPython.core.display.Javascript object>"
      ]
     },
     "metadata": {},
     "output_type": "display_data"
    },
    {
     "data": {
      "application/javascript": [
       "\n",
       "        if (window._pyforest_update_imports_cell) { window._pyforest_update_imports_cell('import numpy as np\\nimport matplotlib.pyplot as plt\\nimport pandas as pd'); }\n",
       "    "
      ],
      "text/plain": [
       "<IPython.core.display.Javascript object>"
      ]
     },
     "metadata": {},
     "output_type": "display_data"
    },
    {
     "name": "stdout",
     "output_type": "stream",
     "text": [
      "Performing stepwise search to minimize aic\n"
     ]
    },
    {
     "name": "stderr",
     "output_type": "stream",
     "text": [
      "C:\\Users\\owner\\anaconda3\\lib\\site-packages\\pmdarima\\arima\\utils.py:117: UserWarning: Appropriate D value may not have been reached; length of seasonally-differenced array (11) is shorter than m (12). Using D=1\n",
      "  warnings.warn(\"Appropriate D value may not have been reached; \"\n",
      "C:\\Users\\owner\\anaconda3\\lib\\site-packages\\statsmodels\\tsa\\statespace\\sarimax.py:1899: RuntimeWarning: divide by zero encountered in reciprocal\n",
      "  return np.roots(self.polynomial_reduced_ar)**-1\n",
      "C:\\Users\\owner\\anaconda3\\lib\\site-packages\\statsmodels\\tsa\\statespace\\sarimax.py:1906: RuntimeWarning: divide by zero encountered in reciprocal\n",
      "  return np.roots(self.polynomial_reduced_ma)**-1\n"
     ]
    },
    {
     "name": "stdout",
     "output_type": "stream",
     "text": [
      " ARIMA(2,0,2)(1,1,1)[12] intercept   : AIC=16.000, Time=0.36 sec\n",
      " ARIMA(0,0,0)(0,1,0)[12] intercept   : AIC=0.470, Time=0.06 sec\n",
      " ARIMA(1,0,0)(1,1,0)[12] intercept   : AIC=4.351, Time=0.41 sec\n",
      " ARIMA(0,0,1)(0,1,1)[12] intercept   : AIC=4.215, Time=0.11 sec\n",
      " ARIMA(0,0,0)(0,1,0)[12]             : AIC=-1.333, Time=0.03 sec\n",
      " ARIMA(0,0,0)(1,1,0)[12] intercept   : AIC=2.470, Time=0.10 sec\n",
      " ARIMA(0,0,0)(0,1,1)[12] intercept   : AIC=2.470, Time=0.09 sec\n",
      " ARIMA(0,0,0)(1,1,1)[12] intercept   : AIC=4.470, Time=0.12 sec\n",
      " ARIMA(1,0,0)(0,1,0)[12] intercept   : AIC=2.356, Time=0.07 sec\n",
      " ARIMA(0,0,1)(0,1,0)[12] intercept   : AIC=2.215, Time=0.07 sec\n",
      " ARIMA(1,0,1)(0,1,0)[12] intercept   : AIC=2.127, Time=0.21 sec\n",
      "\n",
      "Best model:  ARIMA(0,0,0)(0,1,0)[12]          \n",
      "Total fit time: 1.662 seconds\n"
     ]
    },
    {
     "data": {
      "application/javascript": [
       "\n",
       "        if (window._pyforest_update_imports_cell) { window._pyforest_update_imports_cell('import numpy as np\\nimport matplotlib.pyplot as plt\\nimport pandas as pd'); }\n",
       "    "
      ],
      "text/plain": [
       "<IPython.core.display.Javascript object>"
      ]
     },
     "metadata": {},
     "output_type": "display_data"
    },
    {
     "name": "stderr",
     "output_type": "stream",
     "text": [
      "C:\\Users\\owner\\anaconda3\\lib\\site-packages\\numpy\\core\\fromnumeric.py:84: FutureWarning: In a future version, DataFrame.max(axis=None) will return a scalar max over the entire DataFrame. To retain the old behavior, use 'frame.max(axis=0)' or just 'frame.max()'\n",
      "  return reduction(axis=axis, out=out, **passkwargs)\n"
     ]
    },
    {
     "data": {
      "text/plain": [
       "Forecast    22395.257208\n",
       "dtype: float64"
      ]
     },
     "execution_count": 61,
     "metadata": {},
     "output_type": "execute_result"
    }
   ],
   "source": [
    "np.max(predict_future())"
   ]
  },
  {
   "cell_type": "markdown",
   "id": "d43c4a75",
   "metadata": {},
   "source": [
    "# <p style=\"text-align: center;\">_Part 5: Visualization_</p>"
   ]
  },
  {
   "cell_type": "markdown",
   "id": "d62e2b8f",
   "metadata": {},
   "source": [
    "#### 1. A line graph for “Level 2” for the different “Place_in_India?” over the months of the year 2020 & 2021."
   ]
  },
  {
   "cell_type": "code",
   "execution_count": 62,
   "id": "8f8c1fe2",
   "metadata": {},
   "outputs": [],
   "source": [
    "dates=('1/2020', '2/2020', '3/2020', '4/2020', '5/2020', '6/2020',\n",
    "       '7/2020', '8/2020', '9/2020', '10/2020', '11/2020', '12/2020',\n",
    "       '1/2021', '2/2021', '3/2021', '4/2021', '5/2021', '6/2021',\n",
    "       '7/2021', '8/2021', '9/2021', '10/2021', '11/2021', '12/2021')"
   ]
  },
  {
   "cell_type": "code",
   "execution_count": 63,
   "id": "c965831b",
   "metadata": {},
   "outputs": [],
   "source": [
    "p=[]\n",
    "for date in dates:\n",
    "    sum=ds[(ds['Place_in_India']=='Pune') & (ds['month_year']==date)]['Level 2'].sum()\n",
    "    p.append(sum)"
   ]
  },
  {
   "cell_type": "code",
   "execution_count": 64,
   "id": "f59deb59",
   "metadata": {},
   "outputs": [],
   "source": [
    "h=[]\n",
    "for date in dates:\n",
    "    sum=ds[(ds['Place_in_India']=='Hyderabad') & (ds['month_year']==date)]['Level 2'].sum()\n",
    "    h.append(sum)"
   ]
  },
  {
   "cell_type": "code",
   "execution_count": 65,
   "id": "f55066fc",
   "metadata": {},
   "outputs": [],
   "source": [
    "d=[]\n",
    "for date in dates:\n",
    "    sum=ds[(ds['Place_in_India']=='Dehradun') & (ds['month_year']==date)]['Level 2'].sum()\n",
    "    d.append(sum)"
   ]
  },
  {
   "cell_type": "code",
   "execution_count": 66,
   "id": "3f967390",
   "metadata": {},
   "outputs": [],
   "source": [
    "i=[]\n",
    "for date in dates:\n",
    "    sum=ds[(ds['Place_in_India']=='Indore') & (ds['month_year']==date)]['Level 2'].sum()\n",
    "    i.append(sum)"
   ]
  },
  {
   "cell_type": "code",
   "execution_count": 67,
   "id": "88077c20",
   "metadata": {},
   "outputs": [],
   "source": [
    "b=[]\n",
    "for date in dates:\n",
    "    sum=ds[(ds['Place_in_India']=='Bengaluru') & (ds['month_year']==date)]['Level 2'].sum()\n",
    "    b.append(sum)"
   ]
  },
  {
   "cell_type": "code",
   "execution_count": 68,
   "id": "3c352be4",
   "metadata": {},
   "outputs": [
    {
     "data": {
      "application/javascript": [
       "\n",
       "        if (window._pyforest_update_imports_cell) { window._pyforest_update_imports_cell('import numpy as np\\nimport matplotlib.pyplot as plt\\nimport pandas as pd'); }\n",
       "    "
      ],
      "text/plain": [
       "<IPython.core.display.Javascript object>"
      ]
     },
     "metadata": {},
     "output_type": "display_data"
    },
    {
     "data": {
      "application/javascript": [
       "\n",
       "        if (window._pyforest_update_imports_cell) { window._pyforest_update_imports_cell('import numpy as np\\nimport matplotlib.pyplot as plt\\nimport pandas as pd'); }\n",
       "    "
      ],
      "text/plain": [
       "<IPython.core.display.Javascript object>"
      ]
     },
     "metadata": {},
     "output_type": "display_data"
    },
    {
     "data": {
      "application/javascript": [
       "\n",
       "        if (window._pyforest_update_imports_cell) { window._pyforest_update_imports_cell('import numpy as np\\nimport matplotlib.pyplot as plt\\nimport pandas as pd'); }\n",
       "    "
      ],
      "text/plain": [
       "<IPython.core.display.Javascript object>"
      ]
     },
     "metadata": {},
     "output_type": "display_data"
    },
    {
     "data": {
      "application/javascript": [
       "\n",
       "        if (window._pyforest_update_imports_cell) { window._pyforest_update_imports_cell('import numpy as np\\nimport matplotlib.pyplot as plt\\nimport pandas as pd'); }\n",
       "    "
      ],
      "text/plain": [
       "<IPython.core.display.Javascript object>"
      ]
     },
     "metadata": {},
     "output_type": "display_data"
    },
    {
     "data": {
      "application/javascript": [
       "\n",
       "        if (window._pyforest_update_imports_cell) { window._pyforest_update_imports_cell('import numpy as np\\nimport matplotlib.pyplot as plt\\nimport pandas as pd'); }\n",
       "    "
      ],
      "text/plain": [
       "<IPython.core.display.Javascript object>"
      ]
     },
     "metadata": {},
     "output_type": "display_data"
    },
    {
     "data": {
      "application/javascript": [
       "\n",
       "        if (window._pyforest_update_imports_cell) { window._pyforest_update_imports_cell('import numpy as np\\nimport matplotlib.pyplot as plt\\nimport pandas as pd'); }\n",
       "    "
      ],
      "text/plain": [
       "<IPython.core.display.Javascript object>"
      ]
     },
     "metadata": {},
     "output_type": "display_data"
    },
    {
     "data": {
      "application/javascript": [
       "\n",
       "        if (window._pyforest_update_imports_cell) { window._pyforest_update_imports_cell('import numpy as np\\nimport matplotlib.pyplot as plt\\nimport pandas as pd'); }\n",
       "    "
      ],
      "text/plain": [
       "<IPython.core.display.Javascript object>"
      ]
     },
     "metadata": {},
     "output_type": "display_data"
    },
    {
     "data": {
      "application/javascript": [
       "\n",
       "        if (window._pyforest_update_imports_cell) { window._pyforest_update_imports_cell('import numpy as np\\nimport matplotlib.pyplot as plt\\nimport pandas as pd'); }\n",
       "    "
      ],
      "text/plain": [
       "<IPython.core.display.Javascript object>"
      ]
     },
     "metadata": {},
     "output_type": "display_data"
    },
    {
     "data": {
      "application/javascript": [
       "\n",
       "        if (window._pyforest_update_imports_cell) { window._pyforest_update_imports_cell('import numpy as np\\nimport matplotlib.pyplot as plt\\nimport pandas as pd'); }\n",
       "    "
      ],
      "text/plain": [
       "<IPython.core.display.Javascript object>"
      ]
     },
     "metadata": {},
     "output_type": "display_data"
    },
    {
     "data": {
      "application/javascript": [
       "\n",
       "        if (window._pyforest_update_imports_cell) { window._pyforest_update_imports_cell('import numpy as np\\nimport matplotlib.pyplot as plt\\nimport pandas as pd'); }\n",
       "    "
      ],
      "text/plain": [
       "<IPython.core.display.Javascript object>"
      ]
     },
     "metadata": {},
     "output_type": "display_data"
    },
    {
     "data": {
      "text/plain": [
       "<matplotlib.legend.Legend at 0x12a4b9309d0>"
      ]
     },
     "execution_count": 68,
     "metadata": {},
     "output_type": "execute_result"
    },
    {
     "data": {
      "image/png": "[encoded data removed]",
      "text/plain": [
       "<Figure size 1000x500 with 1 Axes>"
      ]
     },
     "metadata": {},
     "output_type": "display_data"
    }
   ],
   "source": [
    "plt.figure(figsize=(10,5))\n",
    "plt.plot(dates,p, label='Pune')\n",
    "plt.plot(dates,h, label='Hyderabad')\n",
    "plt.plot(dates,d, label='DEhradun')\n",
    "plt.plot(dates,i, label='Indore')\n",
    "plt.plot(dates,b, label='Bengaluru')\n",
    "plt.xlabel('Date')\n",
    "plt.ylabel('Sum of Level 2')\n",
    "plt.xticks(rotation=45)\n",
    "plt.legend()"
   ]
  },
  {
   "cell_type": "code",
   "execution_count": null,
   "id": "7ace9ee9",
   "metadata": {},
   "outputs": [],
   "source": []
  },
  {
   "cell_type": "markdown",
   "id": "f6afcf97",
   "metadata": {},
   "source": [
    "#### 2. A line graph for “Level 1” for the different “Laptop/Desktop” over the months of the year 2020 & 2021. "
   ]
  },
  {
   "cell_type": "code",
   "execution_count": 69,
   "id": "50ab3912",
   "metadata": {},
   "outputs": [],
   "source": [
    "dates=('1/2020', '2/2020', '3/2020', '4/2020', '5/2020', '6/2020',\n",
    "       '7/2020', '8/2020', '9/2020', '10/2020', '11/2020', '12/2020',\n",
    "       '1/2021', '2/2021', '3/2021', '4/2021', '5/2021', '6/2021',\n",
    "       '7/2021', '8/2021', '9/2021', '10/2021', '11/2021', '12/2021')"
   ]
  },
  {
   "cell_type": "code",
   "execution_count": 70,
   "id": "4fdef6dc",
   "metadata": {},
   "outputs": [],
   "source": [
    "list=[]\n",
    "for date in dates:\n",
    "    sum=ds[(ds['Laptop/Desktop']=='Desktop_Website') & (ds['month_year']==date)]['Level 1'].sum()\n",
    "    list.append(sum)"
   ]
  },
  {
   "cell_type": "code",
   "execution_count": 71,
   "id": "9a75192d",
   "metadata": {},
   "outputs": [],
   "source": [
    "list1=[]\n",
    "for date in dates:\n",
    "    sum=ds[(ds['Laptop/Desktop']=='Laptop_Website') & (ds['month_year']==date)]['Level 1'].sum()\n",
    "    list1.append(sum)"
   ]
  },
  {
   "cell_type": "code",
   "execution_count": 72,
   "id": "5572a270",
   "metadata": {},
   "outputs": [
    {
     "data": {
      "application/javascript": [
       "\n",
       "        if (window._pyforest_update_imports_cell) { window._pyforest_update_imports_cell('import numpy as np\\nimport matplotlib.pyplot as plt\\nimport pandas as pd'); }\n",
       "    "
      ],
      "text/plain": [
       "<IPython.core.display.Javascript object>"
      ]
     },
     "metadata": {},
     "output_type": "display_data"
    },
    {
     "data": {
      "application/javascript": [
       "\n",
       "        if (window._pyforest_update_imports_cell) { window._pyforest_update_imports_cell('import numpy as np\\nimport matplotlib.pyplot as plt\\nimport pandas as pd'); }\n",
       "    "
      ],
      "text/plain": [
       "<IPython.core.display.Javascript object>"
      ]
     },
     "metadata": {},
     "output_type": "display_data"
    },
    {
     "data": {
      "application/javascript": [
       "\n",
       "        if (window._pyforest_update_imports_cell) { window._pyforest_update_imports_cell('import numpy as np\\nimport matplotlib.pyplot as plt\\nimport pandas as pd'); }\n",
       "    "
      ],
      "text/plain": [
       "<IPython.core.display.Javascript object>"
      ]
     },
     "metadata": {},
     "output_type": "display_data"
    },
    {
     "data": {
      "application/javascript": [
       "\n",
       "        if (window._pyforest_update_imports_cell) { window._pyforest_update_imports_cell('import numpy as np\\nimport matplotlib.pyplot as plt\\nimport pandas as pd'); }\n",
       "    "
      ],
      "text/plain": [
       "<IPython.core.display.Javascript object>"
      ]
     },
     "metadata": {},
     "output_type": "display_data"
    },
    {
     "data": {
      "application/javascript": [
       "\n",
       "        if (window._pyforest_update_imports_cell) { window._pyforest_update_imports_cell('import numpy as np\\nimport matplotlib.pyplot as plt\\nimport pandas as pd'); }\n",
       "    "
      ],
      "text/plain": [
       "<IPython.core.display.Javascript object>"
      ]
     },
     "metadata": {},
     "output_type": "display_data"
    },
    {
     "data": {
      "application/javascript": [
       "\n",
       "        if (window._pyforest_update_imports_cell) { window._pyforest_update_imports_cell('import numpy as np\\nimport matplotlib.pyplot as plt\\nimport pandas as pd'); }\n",
       "    "
      ],
      "text/plain": [
       "<IPython.core.display.Javascript object>"
      ]
     },
     "metadata": {},
     "output_type": "display_data"
    },
    {
     "data": {
      "application/javascript": [
       "\n",
       "        if (window._pyforest_update_imports_cell) { window._pyforest_update_imports_cell('import numpy as np\\nimport matplotlib.pyplot as plt\\nimport pandas as pd'); }\n",
       "    "
      ],
      "text/plain": [
       "<IPython.core.display.Javascript object>"
      ]
     },
     "metadata": {},
     "output_type": "display_data"
    },
    {
     "data": {
      "text/plain": [
       "<matplotlib.legend.Legend at 0x12a4bcb0d00>"
      ]
     },
     "execution_count": 72,
     "metadata": {},
     "output_type": "execute_result"
    },
    {
     "data": {
      "image/png": "[encoded data removed]",
      "text/plain": [
       "<Figure size 1000x500 with 1 Axes>"
      ]
     },
     "metadata": {},
     "output_type": "display_data"
    }
   ],
   "source": [
    "plt.figure(figsize=(10,5))\n",
    "plt.plot(dates, list, label='Desktop_Website')\n",
    "plt.plot(dates, list1, label='Laptop_Website')\n",
    "plt.xlabel('Date')\n",
    "plt.ylabel('Sum of Level 1')\n",
    "plt.xticks(rotation=45)\n",
    "plt.legend()"
   ]
  },
  {
   "cell_type": "markdown",
   "id": "1583c67a",
   "metadata": {},
   "source": [
    "#### 3. A line graph for “Level 2” for the different “Coming from” over the months of the year 2021 & 2022"
   ]
  },
  {
   "cell_type": "code",
   "execution_count": 73,
   "id": "7283635f",
   "metadata": {},
   "outputs": [],
   "source": [
    "dates=('1/2021', '2/2021', '3/2021', '4/2021', '5/2021', '6/2021',\n",
    "       '7/2021', '8/2021', '9/2021', '10/2021', '11/2021', '12/2021',\n",
    "       '1/2022', '2/2022', '3/2022', '4/2022', '5/2022', '6/2022',\n",
    "       '7/2022', '8/2022', '9/2022', '10/2022', '11/2022', '12/2022')"
   ]
  },
  {
   "cell_type": "code",
   "execution_count": 74,
   "id": "48010a45",
   "metadata": {},
   "outputs": [],
   "source": [
    "list=[]\n",
    "for date in dates:\n",
    "    sum=ds[(ds['Coming from']=='From LinkedIn') & (ds['month_year']==date)]['Level 2'].sum()\n",
    "    list.append(sum)"
   ]
  },
  {
   "cell_type": "code",
   "execution_count": 75,
   "id": "bf771e5e",
   "metadata": {},
   "outputs": [
    {
     "data": {
      "text/plain": [
       "array(['From LinkedIn', 'Direct_traffic', 'Unidentified_Sources'],\n",
       "      dtype=object)"
      ]
     },
     "execution_count": 75,
     "metadata": {},
     "output_type": "execute_result"
    }
   ],
   "source": [
    "ds['Coming from'].unique()"
   ]
  },
  {
   "cell_type": "code",
   "execution_count": 76,
   "id": "3a63574a",
   "metadata": {},
   "outputs": [],
   "source": [
    "list1=[]\n",
    "for date in dates:\n",
    "    sum=ds[(ds['Coming from']=='Direct_traffic') & (ds['month_year']==date)]['Level 2'].sum()\n",
    "    list1.append(sum)"
   ]
  },
  {
   "cell_type": "code",
   "execution_count": 77,
   "id": "1f4ebc9f",
   "metadata": {},
   "outputs": [],
   "source": [
    "list2=[]\n",
    "for date in dates:\n",
    "    sum=ds[(ds['Coming from']=='Unidentified_Sources') & (ds['month_year']==date)]['Level 2'].sum()\n",
    "    list2.append(sum)"
   ]
  },
  {
   "cell_type": "code",
   "execution_count": 78,
   "id": "ff46cc08",
   "metadata": {},
   "outputs": [
    {
     "data": {
      "application/javascript": [
       "\n",
       "        if (window._pyforest_update_imports_cell) { window._pyforest_update_imports_cell('import numpy as np\\nimport matplotlib.pyplot as plt\\nimport pandas as pd'); }\n",
       "    "
      ],
      "text/plain": [
       "<IPython.core.display.Javascript object>"
      ]
     },
     "metadata": {},
     "output_type": "display_data"
    },
    {
     "data": {
      "application/javascript": [
       "\n",
       "        if (window._pyforest_update_imports_cell) { window._pyforest_update_imports_cell('import numpy as np\\nimport matplotlib.pyplot as plt\\nimport pandas as pd'); }\n",
       "    "
      ],
      "text/plain": [
       "<IPython.core.display.Javascript object>"
      ]
     },
     "metadata": {},
     "output_type": "display_data"
    },
    {
     "data": {
      "application/javascript": [
       "\n",
       "        if (window._pyforest_update_imports_cell) { window._pyforest_update_imports_cell('import numpy as np\\nimport matplotlib.pyplot as plt\\nimport pandas as pd'); }\n",
       "    "
      ],
      "text/plain": [
       "<IPython.core.display.Javascript object>"
      ]
     },
     "metadata": {},
     "output_type": "display_data"
    },
    {
     "data": {
      "application/javascript": [
       "\n",
       "        if (window._pyforest_update_imports_cell) { window._pyforest_update_imports_cell('import numpy as np\\nimport matplotlib.pyplot as plt\\nimport pandas as pd'); }\n",
       "    "
      ],
      "text/plain": [
       "<IPython.core.display.Javascript object>"
      ]
     },
     "metadata": {},
     "output_type": "display_data"
    },
    {
     "data": {
      "application/javascript": [
       "\n",
       "        if (window._pyforest_update_imports_cell) { window._pyforest_update_imports_cell('import numpy as np\\nimport matplotlib.pyplot as plt\\nimport pandas as pd'); }\n",
       "    "
      ],
      "text/plain": [
       "<IPython.core.display.Javascript object>"
      ]
     },
     "metadata": {},
     "output_type": "display_data"
    },
    {
     "data": {
      "application/javascript": [
       "\n",
       "        if (window._pyforest_update_imports_cell) { window._pyforest_update_imports_cell('import numpy as np\\nimport matplotlib.pyplot as plt\\nimport pandas as pd'); }\n",
       "    "
      ],
      "text/plain": [
       "<IPython.core.display.Javascript object>"
      ]
     },
     "metadata": {},
     "output_type": "display_data"
    },
    {
     "data": {
      "application/javascript": [
       "\n",
       "        if (window._pyforest_update_imports_cell) { window._pyforest_update_imports_cell('import numpy as np\\nimport matplotlib.pyplot as plt\\nimport pandas as pd'); }\n",
       "    "
      ],
      "text/plain": [
       "<IPython.core.display.Javascript object>"
      ]
     },
     "metadata": {},
     "output_type": "display_data"
    },
    {
     "data": {
      "application/javascript": [
       "\n",
       "        if (window._pyforest_update_imports_cell) { window._pyforest_update_imports_cell('import numpy as np\\nimport matplotlib.pyplot as plt\\nimport pandas as pd'); }\n",
       "    "
      ],
      "text/plain": [
       "<IPython.core.display.Javascript object>"
      ]
     },
     "metadata": {},
     "output_type": "display_data"
    },
    {
     "data": {
      "text/plain": [
       "<matplotlib.legend.Legend at 0x12a4bc3e310>"
      ]
     },
     "execution_count": 78,
     "metadata": {},
     "output_type": "execute_result"
    },
    {
     "data": {
      "image/png": "[encoded data removed]",
      "text/plain": [
       "<Figure size 1000x500 with 1 Axes>"
      ]
     },
     "metadata": {},
     "output_type": "display_data"
    }
   ],
   "source": [
    "plt.figure(figsize=(10,5))\n",
    "plt.plot(dates,list, label='From LinkedIn')\n",
    "plt.plot(dates,list1, label='Direct_traffic')\n",
    "plt.plot(dates,list2, label='Unidentified_Sources')\n",
    "plt.xlabel('Date')\n",
    "plt.ylabel('Sum of Level 2')\n",
    "plt.xticks(rotation=45)\n",
    "plt.legend()"
   ]
  },
  {
   "cell_type": "markdown",
   "id": "865e2887",
   "metadata": {},
   "source": [
    "#### 4. A line graph for “Level 1”, “Level 4”  and “inc/dec percentage” columns over the months of the year 2020, 2021 & 2022"
   ]
  },
  {
   "cell_type": "code",
   "execution_count": 79,
   "id": "cfdde1f1",
   "metadata": {},
   "outputs": [],
   "source": [
    "ds['inc/dec percentage']=data_cleaning(ds['Level 1'],ds['Level 4'])"
   ]
  },
  {
   "cell_type": "code",
   "execution_count": 80,
   "id": "ece9885e",
   "metadata": {},
   "outputs": [
    {
     "data": {
      "text/html": [
       "<div>\n",
       "<style scoped>\n",
       "    .dataframe tbody tr th:only-of-type {\n",
       "        vertical-align: middle;\n",
       "    }\n",
       "\n",
       "    .dataframe tbody tr th {\n",
       "        vertical-align: top;\n",
       "    }\n",
       "\n",
       "    .dataframe thead th {\n",
       "        text-align: right;\n",
       "    }\n",
       "</style>\n",
       "<table border=\"1\" class=\"dataframe\">\n",
       "  <thead>\n",
       "    <tr style=\"text-align: right;\">\n",
       "      <th></th>\n",
       "      <th>Year</th>\n",
       "      <th>Month</th>\n",
       "      <th>Laptop/Desktop</th>\n",
       "      <th>Type_of_Customers?</th>\n",
       "      <th>Coming from</th>\n",
       "      <th>Place_in_India</th>\n",
       "      <th>Level 1</th>\n",
       "      <th>Level 2</th>\n",
       "      <th>Level 3</th>\n",
       "      <th>Level 4</th>\n",
       "      <th>month_year</th>\n",
       "      <th>Date</th>\n",
       "      <th>inc/dec percentage</th>\n",
       "    </tr>\n",
       "  </thead>\n",
       "  <tbody>\n",
       "    <tr>\n",
       "      <th>0</th>\n",
       "      <td>2020</td>\n",
       "      <td>January</td>\n",
       "      <td>Desktop_Website</td>\n",
       "      <td>Existing_Customer</td>\n",
       "      <td>From LinkedIn</td>\n",
       "      <td>Bengaluru</td>\n",
       "      <td>783870.222017</td>\n",
       "      <td>358215.416281</td>\n",
       "      <td>56892</td>\n",
       "      <td>17178</td>\n",
       "      <td>1/2020</td>\n",
       "      <td>2020-01-01</td>\n",
       "      <td>97.808566</td>\n",
       "    </tr>\n",
       "    <tr>\n",
       "      <th>1</th>\n",
       "      <td>2020</td>\n",
       "      <td>January</td>\n",
       "      <td>Desktop_Website</td>\n",
       "      <td>Existing_Customer</td>\n",
       "      <td>From LinkedIn</td>\n",
       "      <td>Hyderabad</td>\n",
       "      <td>783870.222017</td>\n",
       "      <td>358215.416281</td>\n",
       "      <td>41460</td>\n",
       "      <td>11916</td>\n",
       "      <td>1/2020</td>\n",
       "      <td>2020-01-01</td>\n",
       "      <td>98.479850</td>\n",
       "    </tr>\n",
       "    <tr>\n",
       "      <th>2</th>\n",
       "      <td>2020</td>\n",
       "      <td>January</td>\n",
       "      <td>Desktop_Website</td>\n",
       "      <td>Existing_Customer</td>\n",
       "      <td>From LinkedIn</td>\n",
       "      <td>Dehradun</td>\n",
       "      <td>783870.222017</td>\n",
       "      <td>358215.416281</td>\n",
       "      <td>55561</td>\n",
       "      <td>19461</td>\n",
       "      <td>1/2020</td>\n",
       "      <td>2020-01-01</td>\n",
       "      <td>97.517319</td>\n",
       "    </tr>\n",
       "    <tr>\n",
       "      <th>3</th>\n",
       "      <td>2020</td>\n",
       "      <td>January</td>\n",
       "      <td>Desktop_Website</td>\n",
       "      <td>Existing_Customer</td>\n",
       "      <td>From LinkedIn</td>\n",
       "      <td>Indore</td>\n",
       "      <td>783870.222017</td>\n",
       "      <td>358215.416281</td>\n",
       "      <td>320923</td>\n",
       "      <td>110667</td>\n",
       "      <td>1/2020</td>\n",
       "      <td>2020-01-01</td>\n",
       "      <td>85.881974</td>\n",
       "    </tr>\n",
       "    <tr>\n",
       "      <th>4</th>\n",
       "      <td>2020</td>\n",
       "      <td>January</td>\n",
       "      <td>Desktop_Website</td>\n",
       "      <td>Existing_Customer</td>\n",
       "      <td>From LinkedIn</td>\n",
       "      <td>Pune</td>\n",
       "      <td>783870.222017</td>\n",
       "      <td>358215.416281</td>\n",
       "      <td>220937</td>\n",
       "      <td>46033</td>\n",
       "      <td>1/2020</td>\n",
       "      <td>2020-01-01</td>\n",
       "      <td>94.127472</td>\n",
       "    </tr>\n",
       "  </tbody>\n",
       "</table>\n",
       "</div>"
      ],
      "text/plain": [
       "   Year    Month   Laptop/Desktop Type_of_Customers?    Coming from  \\\n",
       "0  2020  January  Desktop_Website  Existing_Customer  From LinkedIn   \n",
       "1  2020  January  Desktop_Website  Existing_Customer  From LinkedIn   \n",
       "2  2020  January  Desktop_Website  Existing_Customer  From LinkedIn   \n",
       "3  2020  January  Desktop_Website  Existing_Customer  From LinkedIn   \n",
       "4  2020  January  Desktop_Website  Existing_Customer  From LinkedIn   \n",
       "\n",
       "  Place_in_India        Level 1        Level 2  Level 3  Level 4 month_year  \\\n",
       "0      Bengaluru  783870.222017  358215.416281    56892    17178     1/2020   \n",
       "1      Hyderabad  783870.222017  358215.416281    41460    11916     1/2020   \n",
       "2       Dehradun  783870.222017  358215.416281    55561    19461     1/2020   \n",
       "3         Indore  783870.222017  358215.416281   320923   110667     1/2020   \n",
       "4           Pune  783870.222017  358215.416281   220937    46033     1/2020   \n",
       "\n",
       "        Date  inc/dec percentage  \n",
       "0 2020-01-01           97.808566  \n",
       "1 2020-01-01           98.479850  \n",
       "2 2020-01-01           97.517319  \n",
       "3 2020-01-01           85.881974  \n",
       "4 2020-01-01           94.127472  "
      ]
     },
     "execution_count": 80,
     "metadata": {},
     "output_type": "execute_result"
    }
   ],
   "source": [
    "ds.head()"
   ]
  },
  {
   "cell_type": "code",
   "execution_count": 81,
   "id": "fcd5e3a9",
   "metadata": {},
   "outputs": [],
   "source": [
    "dates=('1/2020', '2/2020', '3/2020', '4/2020', '5/2020', '6/2020',\n",
    "       '7/2020', '8/2020', '9/2020', '10/2020', '11/2020', '12/2020',\n",
    "       '1/2021', '2/2021', '3/2021', '4/2021', '5/2021', '6/2021',\n",
    "       '7/2021', '8/2021', '9/2021', '10/2021', '11/2021', '12/2021',\n",
    "       '1/2022', '2/2022', '3/2022', '4/2022', '5/2022', '6/2022',\n",
    "       '7/2022', '8/2022', '9/2022', '10/2022', '11/2022', '12/2022')"
   ]
  },
  {
   "cell_type": "code",
   "execution_count": 82,
   "id": "c1194572",
   "metadata": {},
   "outputs": [],
   "source": [
    "l1=[]\n",
    "for date in dates:\n",
    "    sum=ds[ds['month_year']==date]['Level 1'].sum()\n",
    "    l1.append(sum)"
   ]
  },
  {
   "cell_type": "code",
   "execution_count": 83,
   "id": "36715d27",
   "metadata": {},
   "outputs": [],
   "source": [
    "l4=[]\n",
    "for date in dates:\n",
    "    sum=ds[ds['month_year']==date]['Level 4'].sum()\n",
    "    l4.append(sum)"
   ]
  },
  {
   "cell_type": "code",
   "execution_count": 84,
   "id": "8140b3c8",
   "metadata": {},
   "outputs": [],
   "source": [
    "i_d=[]\n",
    "for date in dates:\n",
    "    sum=ds[ds['month_year']==date]['inc/dec percentage'].sum()\n",
    "    i_d.append(sum)"
   ]
  },
  {
   "cell_type": "code",
   "execution_count": 85,
   "id": "2d5ac33f",
   "metadata": {},
   "outputs": [
    {
     "data": {
      "application/javascript": [
       "\n",
       "        if (window._pyforest_update_imports_cell) { window._pyforest_update_imports_cell('import numpy as np\\nimport matplotlib.pyplot as plt\\nimport pandas as pd'); }\n",
       "    "
      ],
      "text/plain": [
       "<IPython.core.display.Javascript object>"
      ]
     },
     "metadata": {},
     "output_type": "display_data"
    },
    {
     "data": {
      "application/javascript": [
       "\n",
       "        if (window._pyforest_update_imports_cell) { window._pyforest_update_imports_cell('import numpy as np\\nimport matplotlib.pyplot as plt\\nimport pandas as pd'); }\n",
       "    "
      ],
      "text/plain": [
       "<IPython.core.display.Javascript object>"
      ]
     },
     "metadata": {},
     "output_type": "display_data"
    },
    {
     "data": {
      "application/javascript": [
       "\n",
       "        if (window._pyforest_update_imports_cell) { window._pyforest_update_imports_cell('import numpy as np\\nimport matplotlib.pyplot as plt\\nimport pandas as pd'); }\n",
       "    "
      ],
      "text/plain": [
       "<IPython.core.display.Javascript object>"
      ]
     },
     "metadata": {},
     "output_type": "display_data"
    },
    {
     "data": {
      "application/javascript": [
       "\n",
       "        if (window._pyforest_update_imports_cell) { window._pyforest_update_imports_cell('import numpy as np\\nimport matplotlib.pyplot as plt\\nimport pandas as pd'); }\n",
       "    "
      ],
      "text/plain": [
       "<IPython.core.display.Javascript object>"
      ]
     },
     "metadata": {},
     "output_type": "display_data"
    },
    {
     "data": {
      "application/javascript": [
       "\n",
       "        if (window._pyforest_update_imports_cell) { window._pyforest_update_imports_cell('import numpy as np\\nimport matplotlib.pyplot as plt\\nimport pandas as pd'); }\n",
       "    "
      ],
      "text/plain": [
       "<IPython.core.display.Javascript object>"
      ]
     },
     "metadata": {},
     "output_type": "display_data"
    },
    {
     "data": {
      "application/javascript": [
       "\n",
       "        if (window._pyforest_update_imports_cell) { window._pyforest_update_imports_cell('import numpy as np\\nimport matplotlib.pyplot as plt\\nimport pandas as pd'); }\n",
       "    "
      ],
      "text/plain": [
       "<IPython.core.display.Javascript object>"
      ]
     },
     "metadata": {},
     "output_type": "display_data"
    },
    {
     "data": {
      "application/javascript": [
       "\n",
       "        if (window._pyforest_update_imports_cell) { window._pyforest_update_imports_cell('import numpy as np\\nimport matplotlib.pyplot as plt\\nimport pandas as pd'); }\n",
       "    "
      ],
      "text/plain": [
       "<IPython.core.display.Javascript object>"
      ]
     },
     "metadata": {},
     "output_type": "display_data"
    },
    {
     "data": {
      "application/javascript": [
       "\n",
       "        if (window._pyforest_update_imports_cell) { window._pyforest_update_imports_cell('import numpy as np\\nimport matplotlib.pyplot as plt\\nimport pandas as pd'); }\n",
       "    "
      ],
      "text/plain": [
       "<IPython.core.display.Javascript object>"
      ]
     },
     "metadata": {},
     "output_type": "display_data"
    },
    {
     "data": {
      "text/plain": [
       "<matplotlib.legend.Legend at 0x12a44db4580>"
      ]
     },
     "execution_count": 85,
     "metadata": {},
     "output_type": "execute_result"
    },
    {
     "data": {
      "image/png": "[encoded data removed]",
      "text/plain": [
       "<Figure size 1000x500 with 1 Axes>"
      ]
     },
     "metadata": {},
     "output_type": "display_data"
    }
   ],
   "source": [
    "plt.figure(figsize=(10,5))\n",
    "plt.plot(dates,l1, label='Level 1')\n",
    "plt.plot(dates,l4, label='Level 4')\n",
    "plt.plot(dates,i_d, label='inc/dec percentage')\n",
    "plt.xlabel('Date')\n",
    "plt.ylabel('Sum of different columns')\n",
    "plt.xticks(rotation=45)\n",
    "plt.legend()"
   ]
  },
  {
   "cell_type": "markdown",
   "id": "9bc6f853",
   "metadata": {},
   "source": [
    "#### 5. A line graph for “Level 3” and “Place_in_India” over the months of the year 2020 and 2021"
   ]
  },
  {
   "cell_type": "code",
   "execution_count": 86,
   "id": "29d79bbf",
   "metadata": {},
   "outputs": [],
   "source": [
    "dates=('1/2020', '2/2020', '3/2020', '4/2020', '5/2020', '6/2020',\n",
    "       '7/2020', '8/2020', '9/2020', '10/2020', '11/2020', '12/2020',\n",
    "       '1/2021', '2/2021', '3/2021', '4/2021', '5/2021', '6/2021',\n",
    "       '7/2021', '8/2021', '9/2021', '10/2021', '11/2021', '12/2021')"
   ]
  },
  {
   "cell_type": "code",
   "execution_count": 87,
   "id": "617d0add",
   "metadata": {},
   "outputs": [
    {
     "data": {
      "application/javascript": [
       "\n",
       "        if (window._pyforest_update_imports_cell) { window._pyforest_update_imports_cell('import numpy as np\\nimport matplotlib.pyplot as plt\\nimport pandas as pd'); }\n",
       "    "
      ],
      "text/plain": [
       "<IPython.core.display.Javascript object>"
      ]
     },
     "metadata": {},
     "output_type": "display_data"
    },
    {
     "data": {
      "application/javascript": [
       "\n",
       "        if (window._pyforest_update_imports_cell) { window._pyforest_update_imports_cell('import numpy as np\\nimport matplotlib.pyplot as plt\\nimport pandas as pd'); }\n",
       "    "
      ],
      "text/plain": [
       "<IPython.core.display.Javascript object>"
      ]
     },
     "metadata": {},
     "output_type": "display_data"
    },
    {
     "data": {
      "application/javascript": [
       "\n",
       "        if (window._pyforest_update_imports_cell) { window._pyforest_update_imports_cell('import numpy as np\\nimport matplotlib.pyplot as plt\\nimport pandas as pd'); }\n",
       "    "
      ],
      "text/plain": [
       "<IPython.core.display.Javascript object>"
      ]
     },
     "metadata": {},
     "output_type": "display_data"
    },
    {
     "data": {
      "application/javascript": [
       "\n",
       "        if (window._pyforest_update_imports_cell) { window._pyforest_update_imports_cell('import numpy as np\\nimport matplotlib.pyplot as plt\\nimport pandas as pd'); }\n",
       "    "
      ],
      "text/plain": [
       "<IPython.core.display.Javascript object>"
      ]
     },
     "metadata": {},
     "output_type": "display_data"
    },
    {
     "data": {
      "application/javascript": [
       "\n",
       "        if (window._pyforest_update_imports_cell) { window._pyforest_update_imports_cell('import numpy as np\\nimport matplotlib.pyplot as plt\\nimport pandas as pd'); }\n",
       "    "
      ],
      "text/plain": [
       "<IPython.core.display.Javascript object>"
      ]
     },
     "metadata": {},
     "output_type": "display_data"
    },
    {
     "data": {
      "application/javascript": [
       "\n",
       "        if (window._pyforest_update_imports_cell) { window._pyforest_update_imports_cell('import numpy as np\\nimport matplotlib.pyplot as plt\\nimport pandas as pd'); }\n",
       "    "
      ],
      "text/plain": [
       "<IPython.core.display.Javascript object>"
      ]
     },
     "metadata": {},
     "output_type": "display_data"
    },
    {
     "data": {
      "application/javascript": [
       "\n",
       "        if (window._pyforest_update_imports_cell) { window._pyforest_update_imports_cell('import numpy as np\\nimport matplotlib.pyplot as plt\\nimport pandas as pd'); }\n",
       "    "
      ],
      "text/plain": [
       "<IPython.core.display.Javascript object>"
      ]
     },
     "metadata": {},
     "output_type": "display_data"
    },
    {
     "data": {
      "application/javascript": [
       "\n",
       "        if (window._pyforest_update_imports_cell) { window._pyforest_update_imports_cell('import numpy as np\\nimport matplotlib.pyplot as plt\\nimport pandas as pd'); }\n",
       "    "
      ],
      "text/plain": [
       "<IPython.core.display.Javascript object>"
      ]
     },
     "metadata": {},
     "output_type": "display_data"
    },
    {
     "data": {
      "application/javascript": [
       "\n",
       "        if (window._pyforest_update_imports_cell) { window._pyforest_update_imports_cell('import numpy as np\\nimport matplotlib.pyplot as plt\\nimport pandas as pd'); }\n",
       "    "
      ],
      "text/plain": [
       "<IPython.core.display.Javascript object>"
      ]
     },
     "metadata": {},
     "output_type": "display_data"
    },
    {
     "data": {
      "application/javascript": [
       "\n",
       "        if (window._pyforest_update_imports_cell) { window._pyforest_update_imports_cell('import numpy as np\\nimport matplotlib.pyplot as plt\\nimport pandas as pd'); }\n",
       "    "
      ],
      "text/plain": [
       "<IPython.core.display.Javascript object>"
      ]
     },
     "metadata": {},
     "output_type": "display_data"
    },
    {
     "data": {
      "text/plain": [
       "<matplotlib.legend.Legend at 0x12a4c0414f0>"
      ]
     },
     "execution_count": 87,
     "metadata": {},
     "output_type": "execute_result"
    },
    {
     "data": {
      "image/png": "[encoded data removed]",
      "text/plain": [
       "<Figure size 1000x500 with 1 Axes>"
      ]
     },
     "metadata": {},
     "output_type": "display_data"
    }
   ],
   "source": [
    "p=[]\n",
    "for date in dates:\n",
    "    sum=ds[(ds['Place_in_India']=='Pune') & (ds['month_year']==date)]['Level 3'].sum()\n",
    "    p.append(sum)\n",
    "\n",
    "h=[]\n",
    "for date in dates:\n",
    "    sum=ds[(ds['Place_in_India']=='Hyderabad') & (ds['month_year']==date)]['Level 3'].sum()\n",
    "    h.append(sum)\n",
    "\n",
    "d=[]\n",
    "for date in dates:\n",
    "    sum=ds[(ds['Place_in_India']=='Dehradun') & (ds['month_year']==date)]['Level 3'].sum()\n",
    "    d.append(sum)\n",
    "\n",
    "i=[]\n",
    "for date in dates:\n",
    "    sum=ds[(ds['Place_in_India']=='Indore') & (ds['month_year']==date)]['Level 3'].sum()\n",
    "    i.append(sum)\n",
    "\n",
    "b=[]\n",
    "for date in dates:\n",
    "    sum=ds[(ds['Place_in_India']=='Bengaluru') & (ds['month_year']==date)]['Level 3'].sum()\n",
    "    b.append(sum)\n",
    "\n",
    "plt.figure(figsize=(10,5))\n",
    "plt.plot(dates,p, label='Pune')\n",
    "plt.plot(dates,h, label='Hyderabad')\n",
    "plt.plot(dates,d, label='DEhradun')\n",
    "plt.plot(dates,i, label='Indore')\n",
    "plt.plot(dates,b, label='Bengaluru')\n",
    "plt.xlabel('Date')\n",
    "plt.ylabel('Sum of Level 3')\n",
    "plt.xticks(rotation=45)\n",
    "plt.legend()"
   ]
  },
  {
   "cell_type": "markdown",
   "id": "645517ef",
   "metadata": {},
   "source": [
    "#### 6. A well visualized bar graph showing the “Level 1” from various places in India , also, representing the type of customers, for the year 2022"
   ]
  },
  {
   "cell_type": "code",
   "execution_count": 88,
   "id": "a6f1c924",
   "metadata": {},
   "outputs": [
    {
     "data": {
      "text/html": [
       "<div>\n",
       "<style scoped>\n",
       "    .dataframe tbody tr th:only-of-type {\n",
       "        vertical-align: middle;\n",
       "    }\n",
       "\n",
       "    .dataframe tbody tr th {\n",
       "        vertical-align: top;\n",
       "    }\n",
       "\n",
       "    .dataframe thead th {\n",
       "        text-align: right;\n",
       "    }\n",
       "</style>\n",
       "<table border=\"1\" class=\"dataframe\">\n",
       "  <thead>\n",
       "    <tr style=\"text-align: right;\">\n",
       "      <th></th>\n",
       "      <th>Laptop/Desktop</th>\n",
       "      <th>Type_of_Customers?</th>\n",
       "      <th>Coming from</th>\n",
       "      <th>Place_in_India</th>\n",
       "      <th>Level 1</th>\n",
       "      <th>month_year</th>\n",
       "    </tr>\n",
       "  </thead>\n",
       "  <tbody>\n",
       "    <tr>\n",
       "      <th>1440</th>\n",
       "      <td>Desktop_Website</td>\n",
       "      <td>Existing_Customer</td>\n",
       "      <td>From LinkedIn</td>\n",
       "      <td>Bengaluru</td>\n",
       "      <td>783870.222017</td>\n",
       "      <td>1/2022</td>\n",
       "    </tr>\n",
       "    <tr>\n",
       "      <th>1441</th>\n",
       "      <td>Desktop_Website</td>\n",
       "      <td>Existing_Customer</td>\n",
       "      <td>From LinkedIn</td>\n",
       "      <td>Hyderabad</td>\n",
       "      <td>783870.222017</td>\n",
       "      <td>1/2022</td>\n",
       "    </tr>\n",
       "    <tr>\n",
       "      <th>1442</th>\n",
       "      <td>Desktop_Website</td>\n",
       "      <td>Existing_Customer</td>\n",
       "      <td>From LinkedIn</td>\n",
       "      <td>Dehradun</td>\n",
       "      <td>783870.222017</td>\n",
       "      <td>1/2022</td>\n",
       "    </tr>\n",
       "    <tr>\n",
       "      <th>1443</th>\n",
       "      <td>Desktop_Website</td>\n",
       "      <td>Existing_Customer</td>\n",
       "      <td>From LinkedIn</td>\n",
       "      <td>Indore</td>\n",
       "      <td>783870.222017</td>\n",
       "      <td>1/2022</td>\n",
       "    </tr>\n",
       "    <tr>\n",
       "      <th>1444</th>\n",
       "      <td>Desktop_Website</td>\n",
       "      <td>Existing_Customer</td>\n",
       "      <td>From LinkedIn</td>\n",
       "      <td>Pune</td>\n",
       "      <td>783870.222017</td>\n",
       "      <td>1/2022</td>\n",
       "    </tr>\n",
       "  </tbody>\n",
       "</table>\n",
       "</div>"
      ],
      "text/plain": [
       "       Laptop/Desktop Type_of_Customers?    Coming from Place_in_India  \\\n",
       "1440  Desktop_Website  Existing_Customer  From LinkedIn      Bengaluru   \n",
       "1441  Desktop_Website  Existing_Customer  From LinkedIn      Hyderabad   \n",
       "1442  Desktop_Website  Existing_Customer  From LinkedIn       Dehradun   \n",
       "1443  Desktop_Website  Existing_Customer  From LinkedIn         Indore   \n",
       "1444  Desktop_Website  Existing_Customer  From LinkedIn           Pune   \n",
       "\n",
       "            Level 1 month_year  \n",
       "1440  783870.222017     1/2022  \n",
       "1441  783870.222017     1/2022  \n",
       "1442  783870.222017     1/2022  \n",
       "1443  783870.222017     1/2022  \n",
       "1444  783870.222017     1/2022  "
      ]
     },
     "execution_count": 88,
     "metadata": {},
     "output_type": "execute_result"
    }
   ],
   "source": [
    "ds=ds[ds['Year']==2022]\n",
    "ds=ds.drop(columns=['Year', 'Month','Date','inc/dec percentage'])\n",
    "\n",
    "df=ds.drop(columns=['Level 2','Level 3','Level 4'])\n",
    "\n",
    "df.head()"
   ]
  },
  {
   "cell_type": "code",
   "execution_count": 89,
   "id": "c391bd57",
   "metadata": {},
   "outputs": [
    {
     "data": {
      "application/javascript": [
       "\n",
       "        if (window._pyforest_update_imports_cell) { window._pyforest_update_imports_cell('import numpy as np\\nimport matplotlib.pyplot as plt\\nimport pandas as pd'); }\n",
       "    "
      ],
      "text/plain": [
       "<IPython.core.display.Javascript object>"
      ]
     },
     "metadata": {},
     "output_type": "display_data"
    },
    {
     "data": {
      "application/javascript": [
       "\n",
       "        if (window._pyforest_update_imports_cell) { window._pyforest_update_imports_cell('import numpy as np\\nimport seaborn as sns\\nimport matplotlib.pyplot as plt\\nimport pandas as pd'); }\n",
       "    "
      ],
      "text/plain": [
       "<IPython.core.display.Javascript object>"
      ]
     },
     "metadata": {},
     "output_type": "display_data"
    },
    {
     "data": {
      "application/javascript": [
       "\n",
       "        if (window._pyforest_update_imports_cell) { window._pyforest_update_imports_cell('import numpy as np\\nimport seaborn as sns\\nimport matplotlib.pyplot as plt\\nimport pandas as pd'); }\n",
       "    "
      ],
      "text/plain": [
       "<IPython.core.display.Javascript object>"
      ]
     },
     "metadata": {},
     "output_type": "display_data"
    },
    {
     "data": {
      "text/plain": [
       "<AxesSubplot:xlabel='month_year', ylabel='Level 1'>"
      ]
     },
     "execution_count": 89,
     "metadata": {},
     "output_type": "execute_result"
    },
    {
     "data": {
      "image/png": "[encoded data removed]",
      "text/plain": [
       "<Figure size 1000x500 with 1 Axes>"
      ]
     },
     "metadata": {},
     "output_type": "display_data"
    }
   ],
   "source": [
    "plt.figure(figsize=(10,5))\n",
    "sns.barplot(data=df, x='month_year', y='Level 1', hue='Place_in_India', ci=0,  estimator = np.sum)"
   ]
  },
  {
   "cell_type": "markdown",
   "id": "c73288b6",
   "metadata": {},
   "source": [
    "# <p style=\"text-align: center;\">_Part 6: About the Previous projects_</p>"
   ]
  },
  {
   "cell_type": "markdown",
   "id": "d1966b4a",
   "metadata": {},
   "source": [
    "I have worked on computer vision projects and EDA from youtube, kaggle, etc. [My github link](https://github.com/skk06/TF-developer-certificate)  \n",
    "\n",
    "[My Portfolio](https://skk06.github.io/PIAI22NOV2009.github.io/)"
   ]
  },
  {
   "cell_type": "markdown",
   "id": "66effa12",
   "metadata": {},
   "source": [
    "# <p style=\"text-align: center;\">_Part 7: Time management_</p>"
   ]
  },
  {
   "cell_type": "markdown",
   "id": "83d126ef",
   "metadata": {},
   "source": [
    "I will be able to depute time for the internship by managing time for different activities"
   ]
  },
  {
   "cell_type": "code",
   "execution_count": null,
   "id": "8126dff7",
   "metadata": {},
   "outputs": [],
   "source": []
  }
 ],
 "metadata": {
  "kernelspec": {
   "display_name": "Python 3 (ipykernel)",
   "language": "python",
   "name": "python3"
  },
  "language_info": {
   "codemirror_mode": {
    "name": "ipython",
    "version": 3
   },
   "file_extension": ".py",
   "mimetype": "text/x-python",
   "name": "python",
   "nbconvert_exporter": "python",
   "pygments_lexer": "ipython3",
   "version": "3.9.12"
  }
 },
 "nbformat": 4,
 "nbformat_minor": 5
}
